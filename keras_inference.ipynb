{
 "cells": [
  {
   "cell_type": "code",
   "execution_count": 1,
   "id": "fancy-frame",
   "metadata": {},
   "outputs": [],
   "source": [
    "import numpy as np # linear algebra\n",
    "import pandas as pd # data processing, CSV file I/O (e.g. pd.read_csv)\n",
    "import matplotlib.pyplot as plt\n",
    "from sklearn.model_selection import StratifiedKFold\n",
    "from collections import defaultdict\n",
    "\n",
    "\n",
    "import tensorflow as tf\n",
    "import os\n",
    "import cv2\n",
    "from tensorflow.keras import models\n",
    "from tensorflow.keras import layers\n",
    "from tensorflow.keras import optimizers\n",
    "from tensorflow.keras import Input\n",
    "from tensorflow.keras import utils\n",
    "from tensorflow.keras import datasets\n",
    "from tensorflow.keras import preprocessing\n",
    "from tensorflow.keras import metrics\n",
    "from tensorflow.keras.applications.resnet import ResNet50\n",
    "from tensorflow.keras.callbacks import EarlyStopping, ModelCheckpoint, LearningRateScheduler\n",
    "from tensorflow.keras.optimizers import SGD\n",
    "from pylab import rcParams\n",
    "from tensorflow.keras import backend"
   ]
  },
  {
   "cell_type": "code",
   "execution_count": 7,
   "id": "favorite-victorian",
   "metadata": {},
   "outputs": [
    {
     "data": {
      "text/html": [
       "<div>\n",
       "<style scoped>\n",
       "    .dataframe tbody tr th:only-of-type {\n",
       "        vertical-align: middle;\n",
       "    }\n",
       "\n",
       "    .dataframe tbody tr th {\n",
       "        vertical-align: top;\n",
       "    }\n",
       "\n",
       "    .dataframe thead th {\n",
       "        text-align: right;\n",
       "    }\n",
       "</style>\n",
       "<table border=\"1\" class=\"dataframe\">\n",
       "  <thead>\n",
       "    <tr style=\"text-align: right;\">\n",
       "      <th></th>\n",
       "      <th>image</th>\n",
       "      <th>labels</th>\n",
       "    </tr>\n",
       "  </thead>\n",
       "  <tbody>\n",
       "    <tr>\n",
       "      <th>0</th>\n",
       "      <td>800113bb65efe69e.jpg</td>\n",
       "      <td>healthy</td>\n",
       "    </tr>\n",
       "    <tr>\n",
       "      <th>1</th>\n",
       "      <td>8002cb321f8bfcdf.jpg</td>\n",
       "      <td>scab frog_eye_leaf_spot complex</td>\n",
       "    </tr>\n",
       "    <tr>\n",
       "      <th>2</th>\n",
       "      <td>80070f7fb5e2ccaa.jpg</td>\n",
       "      <td>scab</td>\n",
       "    </tr>\n",
       "    <tr>\n",
       "      <th>3</th>\n",
       "      <td>80077517781fb94f.jpg</td>\n",
       "      <td>scab</td>\n",
       "    </tr>\n",
       "    <tr>\n",
       "      <th>4</th>\n",
       "      <td>800cbf0ff87721f8.jpg</td>\n",
       "      <td>complex</td>\n",
       "    </tr>\n",
       "  </tbody>\n",
       "</table>\n",
       "</div>"
      ],
      "text/plain": [
       "                  image                           labels\n",
       "0  800113bb65efe69e.jpg                          healthy\n",
       "1  8002cb321f8bfcdf.jpg  scab frog_eye_leaf_spot complex\n",
       "2  80070f7fb5e2ccaa.jpg                             scab\n",
       "3  80077517781fb94f.jpg                             scab\n",
       "4  800cbf0ff87721f8.jpg                          complex"
      ]
     },
     "execution_count": 7,
     "metadata": {},
     "output_type": "execute_result"
    }
   ],
   "source": [
    "train_path = '/mnt/hdd_data/bbayraktar/plant-pathology-2021-fgvc8/train_images_resized'\n",
    "test_path = '/mnt/hdd_data/bbayraktar/plant-pathology-2021-fgvc8/test_images_resized'\n",
    "df = pd.read_csv('/mnt/hdd_data/bbayraktar/plant-pathology-2021-fgvc8/train.csv')\n",
    "df.head()"
   ]
  },
  {
   "cell_type": "code",
   "execution_count": 8,
   "id": "grand-acrylic",
   "metadata": {},
   "outputs": [
    {
     "data": {
      "text/plain": [
       "{'healthy': array([    0,     5,     7, ..., 18626, 18627, 18631]),\n",
       " 'scab': array([    1,     2,     3, ..., 18625, 18628, 18630]),\n",
       " 'frog_eye_leaf_spot': array([    1,    14,    31, ..., 18612, 18619, 18630]),\n",
       " 'complex': array([    1,     4,     8, ..., 18597, 18604, 18617]),\n",
       " 'rust': array([    6,    21,    26, ..., 18601, 18616, 18629]),\n",
       " 'powdery_mildew': array([   20,    39,    44, ..., 18532, 18617, 18618])}"
      ]
     },
     "execution_count": 8,
     "metadata": {},
     "output_type": "execute_result"
    }
   ],
   "source": [
    "dct = defaultdict(list)\n",
    "\n",
    "for i, label in enumerate(df.labels):\n",
    "    for category in label.split():\n",
    "        dct[category].append(i)\n",
    "\n",
    "dct = {key: np.array(val) for key, val in dct.items()}\n",
    "dct"
   ]
  },
  {
   "cell_type": "code",
   "execution_count": 9,
   "id": "theoretical-amount",
   "metadata": {},
   "outputs": [
    {
     "data": {
      "text/html": [
       "<div>\n",
       "<style scoped>\n",
       "    .dataframe tbody tr th:only-of-type {\n",
       "        vertical-align: middle;\n",
       "    }\n",
       "\n",
       "    .dataframe tbody tr th {\n",
       "        vertical-align: top;\n",
       "    }\n",
       "\n",
       "    .dataframe thead th {\n",
       "        text-align: right;\n",
       "    }\n",
       "</style>\n",
       "<table border=\"1\" class=\"dataframe\">\n",
       "  <thead>\n",
       "    <tr style=\"text-align: right;\">\n",
       "      <th></th>\n",
       "      <th>healthy</th>\n",
       "      <th>scab</th>\n",
       "      <th>frog_eye_leaf_spot</th>\n",
       "      <th>complex</th>\n",
       "      <th>rust</th>\n",
       "      <th>powdery_mildew</th>\n",
       "    </tr>\n",
       "  </thead>\n",
       "  <tbody>\n",
       "    <tr>\n",
       "      <th>0</th>\n",
       "      <td>1</td>\n",
       "      <td>0</td>\n",
       "      <td>0</td>\n",
       "      <td>0</td>\n",
       "      <td>0</td>\n",
       "      <td>0</td>\n",
       "    </tr>\n",
       "    <tr>\n",
       "      <th>1</th>\n",
       "      <td>0</td>\n",
       "      <td>1</td>\n",
       "      <td>1</td>\n",
       "      <td>1</td>\n",
       "      <td>0</td>\n",
       "      <td>0</td>\n",
       "    </tr>\n",
       "    <tr>\n",
       "      <th>2</th>\n",
       "      <td>0</td>\n",
       "      <td>1</td>\n",
       "      <td>0</td>\n",
       "      <td>0</td>\n",
       "      <td>0</td>\n",
       "      <td>0</td>\n",
       "    </tr>\n",
       "    <tr>\n",
       "      <th>3</th>\n",
       "      <td>0</td>\n",
       "      <td>1</td>\n",
       "      <td>0</td>\n",
       "      <td>0</td>\n",
       "      <td>0</td>\n",
       "      <td>0</td>\n",
       "    </tr>\n",
       "    <tr>\n",
       "      <th>4</th>\n",
       "      <td>0</td>\n",
       "      <td>0</td>\n",
       "      <td>0</td>\n",
       "      <td>1</td>\n",
       "      <td>0</td>\n",
       "      <td>0</td>\n",
       "    </tr>\n",
       "  </tbody>\n",
       "</table>\n",
       "</div>"
      ],
      "text/plain": [
       "   healthy  scab  frog_eye_leaf_spot  complex  rust  powdery_mildew\n",
       "0        1     0                   0        0     0               0\n",
       "1        0     1                   1        1     0               0\n",
       "2        0     1                   0        0     0               0\n",
       "3        0     1                   0        0     0               0\n",
       "4        0     0                   0        1     0               0"
      ]
     },
     "execution_count": 9,
     "metadata": {},
     "output_type": "execute_result"
    }
   ],
   "source": [
    "new_df = pd.DataFrame(np.zeros((df.shape[0], len(dct.keys())), dtype = np.int8), columns = dct.keys())\n",
    "\n",
    "for key, val in dct.items():\n",
    "    new_df.loc[val, key] = 1\n",
    "\n",
    "new_df.head()"
   ]
  },
  {
   "cell_type": "code",
   "execution_count": 10,
   "id": "hawaiian-laser",
   "metadata": {},
   "outputs": [
    {
     "data": {
      "text/plain": [
       "healthy               4624\n",
       "scab                  5712\n",
       "frog_eye_leaf_spot    4352\n",
       "complex               2151\n",
       "rust                  2077\n",
       "powdery_mildew        1271\n",
       "dtype: int64"
      ]
     },
     "execution_count": 10,
     "metadata": {},
     "output_type": "execute_result"
    }
   ],
   "source": [
    "new_df.sum(axis = 0)"
   ]
  },
  {
   "cell_type": "code",
   "execution_count": 11,
   "id": "official-sweet",
   "metadata": {},
   "outputs": [
    {
     "data": {
      "text/plain": [
       "array([1, 1, 1, ..., 3, 3, 3])"
      ]
     },
     "execution_count": 11,
     "metadata": {},
     "output_type": "execute_result"
    }
   ],
   "source": [
    "cats_total = new_df.sum(axis = 1).values\n",
    "\n",
    "np.sort(cats_total)\n"
   ]
  },
  {
   "cell_type": "code",
   "execution_count": 12,
   "id": "indirect-demographic",
   "metadata": {},
   "outputs": [
    {
     "data": {
      "text/plain": [
       "Counter({'healthy': 4624,\n",
       "         'scab frog_eye_leaf_spot complex': 200,\n",
       "         'scab': 4826,\n",
       "         'complex': 1602,\n",
       "         'rust': 1860,\n",
       "         'frog_eye_leaf_spot': 3181,\n",
       "         'powdery_mildew': 1184,\n",
       "         'scab frog_eye_leaf_spot': 686,\n",
       "         'frog_eye_leaf_spot complex': 165,\n",
       "         'rust frog_eye_leaf_spot': 120,\n",
       "         'powdery_mildew complex': 87,\n",
       "         'rust complex': 97})"
      ]
     },
     "execution_count": 12,
     "metadata": {},
     "output_type": "execute_result"
    }
   ],
   "source": [
    "from collections import Counter\n",
    "\n",
    "Counter(df.labels)"
   ]
  },
  {
   "cell_type": "code",
   "execution_count": 13,
   "id": "maritime-initial",
   "metadata": {},
   "outputs": [
    {
     "data": {
      "text/plain": [
       "0        0\n",
       "1        1\n",
       "2        2\n",
       "3        2\n",
       "4        3\n",
       "        ..\n",
       "18627    0\n",
       "18628    2\n",
       "18629    4\n",
       "18630    7\n",
       "18631    0\n",
       "Name: labs, Length: 18632, dtype: int64"
      ]
     },
     "execution_count": 13,
     "metadata": {},
     "output_type": "execute_result"
    }
   ],
   "source": [
    "ks = {k: i for i,k in enumerate(Counter(df.labels).keys())}\n",
    "new_df['labs'] = np.array([ks[v] for v in df.labels])\n",
    "new_df['labs']"
   ]
  },
  {
   "cell_type": "code",
   "execution_count": 14,
   "id": "sensitive-funeral",
   "metadata": {},
   "outputs": [
    {
     "data": {
      "text/html": [
       "<div>\n",
       "<style scoped>\n",
       "    .dataframe tbody tr th:only-of-type {\n",
       "        vertical-align: middle;\n",
       "    }\n",
       "\n",
       "    .dataframe tbody tr th {\n",
       "        vertical-align: top;\n",
       "    }\n",
       "\n",
       "    .dataframe thead th {\n",
       "        text-align: right;\n",
       "    }\n",
       "</style>\n",
       "<table border=\"1\" class=\"dataframe\">\n",
       "  <thead>\n",
       "    <tr style=\"text-align: right;\">\n",
       "      <th></th>\n",
       "      <th>image</th>\n",
       "      <th>labels</th>\n",
       "      <th>healthy</th>\n",
       "      <th>scab</th>\n",
       "      <th>frog_eye_leaf_spot</th>\n",
       "      <th>complex</th>\n",
       "      <th>rust</th>\n",
       "      <th>powdery_mildew</th>\n",
       "      <th>labs</th>\n",
       "    </tr>\n",
       "  </thead>\n",
       "  <tbody>\n",
       "    <tr>\n",
       "      <th>0</th>\n",
       "      <td>800113bb65efe69e.jpg</td>\n",
       "      <td>healthy</td>\n",
       "      <td>1</td>\n",
       "      <td>0</td>\n",
       "      <td>0</td>\n",
       "      <td>0</td>\n",
       "      <td>0</td>\n",
       "      <td>0</td>\n",
       "      <td>0</td>\n",
       "    </tr>\n",
       "    <tr>\n",
       "      <th>1</th>\n",
       "      <td>8002cb321f8bfcdf.jpg</td>\n",
       "      <td>scab frog_eye_leaf_spot complex</td>\n",
       "      <td>0</td>\n",
       "      <td>1</td>\n",
       "      <td>1</td>\n",
       "      <td>1</td>\n",
       "      <td>0</td>\n",
       "      <td>0</td>\n",
       "      <td>1</td>\n",
       "    </tr>\n",
       "    <tr>\n",
       "      <th>2</th>\n",
       "      <td>80070f7fb5e2ccaa.jpg</td>\n",
       "      <td>scab</td>\n",
       "      <td>0</td>\n",
       "      <td>1</td>\n",
       "      <td>0</td>\n",
       "      <td>0</td>\n",
       "      <td>0</td>\n",
       "      <td>0</td>\n",
       "      <td>2</td>\n",
       "    </tr>\n",
       "    <tr>\n",
       "      <th>3</th>\n",
       "      <td>80077517781fb94f.jpg</td>\n",
       "      <td>scab</td>\n",
       "      <td>0</td>\n",
       "      <td>1</td>\n",
       "      <td>0</td>\n",
       "      <td>0</td>\n",
       "      <td>0</td>\n",
       "      <td>0</td>\n",
       "      <td>2</td>\n",
       "    </tr>\n",
       "    <tr>\n",
       "      <th>4</th>\n",
       "      <td>800cbf0ff87721f8.jpg</td>\n",
       "      <td>complex</td>\n",
       "      <td>0</td>\n",
       "      <td>0</td>\n",
       "      <td>0</td>\n",
       "      <td>1</td>\n",
       "      <td>0</td>\n",
       "      <td>0</td>\n",
       "      <td>3</td>\n",
       "    </tr>\n",
       "  </tbody>\n",
       "</table>\n",
       "</div>"
      ],
      "text/plain": [
       "                  image                           labels  healthy  scab  \\\n",
       "0  800113bb65efe69e.jpg                          healthy        1     0   \n",
       "1  8002cb321f8bfcdf.jpg  scab frog_eye_leaf_spot complex        0     1   \n",
       "2  80070f7fb5e2ccaa.jpg                             scab        0     1   \n",
       "3  80077517781fb94f.jpg                             scab        0     1   \n",
       "4  800cbf0ff87721f8.jpg                          complex        0     0   \n",
       "\n",
       "   frog_eye_leaf_spot  complex  rust  powdery_mildew  labs  \n",
       "0                   0        0     0               0     0  \n",
       "1                   1        1     0               0     1  \n",
       "2                   0        0     0               0     2  \n",
       "3                   0        0     0               0     2  \n",
       "4                   0        1     0               0     3  "
      ]
     },
     "execution_count": 14,
     "metadata": {},
     "output_type": "execute_result"
    }
   ],
   "source": [
    "new_df = pd.concat([df, new_df], axis = 1)\n",
    "\n",
    "new_df.head()"
   ]
  },
  {
   "cell_type": "code",
   "execution_count": 15,
   "id": "respected-battery",
   "metadata": {},
   "outputs": [
    {
     "data": {
      "text/plain": [
       "['healthy', 'scab', 'frog_eye_leaf_spot', 'complex', 'rust', 'powdery_mildew']"
      ]
     },
     "execution_count": 15,
     "metadata": {},
     "output_type": "execute_result"
    }
   ],
   "source": [
    "target_columns = list(new_df.columns[2:-1])\n",
    "\n",
    "target_columns"
   ]
  },
  {
   "cell_type": "code",
   "execution_count": 17,
   "id": "civic-lyric",
   "metadata": {},
   "outputs": [],
   "source": [
    "network_size = (224,224)\n",
    "number_of_classes = 6"
   ]
  },
  {
   "cell_type": "code",
   "execution_count": 71,
   "id": "still-watershed",
   "metadata": {},
   "outputs": [
    {
     "name": "stdout",
     "output_type": "stream",
     "text": [
      "Found 16303 validated image filenames.\n",
      "Found 2329 validated image filenames.\n"
     ]
    }
   ],
   "source": [
    "batch_size = 128\n",
    "image_generator = preprocessing.image.ImageDataGenerator(\n",
    "    rescale = 1/255,\n",
    "    \n",
    "    featurewise_center=False,\n",
    "    samplewise_center=False,\n",
    "    featurewise_std_normalization=False,\n",
    "    samplewise_std_normalization=False,\n",
    "    \n",
    "    rotation_range=30, \n",
    "    zoom_range=0.15,\n",
    "    width_shift_range=0.2, \n",
    "    height_shift_range=0.2, \n",
    "    shear_range=0.15,\n",
    "    horizontal_flip=True, \n",
    "    vertical_flip=False,\n",
    "    fill_mode=\"reflect\"#,\n",
    "    #validation_split = 0.3\n",
    "  )\n",
    "\n",
    "\n",
    "\n",
    "new_df = new_df.iloc[np.random.choice(new_df.shape[0], new_df.shape[0], replace = False),:]\n",
    "\n",
    "skf = StratifiedKFold(n_splits = 8, shuffle = True, random_state = 1488)\n",
    "\n",
    "train_ind, test_ind = next(skf.split(new_df, new_df['labs']))\n",
    "\n",
    "train_generator = image_generator.flow_from_dataframe(\n",
    "    dataframe = new_df.iloc[train_ind,:],\n",
    "    directory = train_path,\n",
    "    x_col=\"image\",\n",
    "    y_col = target_columns,\n",
    "    weight_col=None,\n",
    "    target_size = network_size,\n",
    "    color_mode=\"rgb\",\n",
    "\n",
    "    class_mode=\"raw\",\n",
    "    batch_size=batch_size,\n",
    "    shuffle=False,\n",
    "    seed=None,\n",
    "\n",
    "    #subset='training',\n",
    "    interpolation=\"box\"\n",
    ")\n",
    "\n",
    "validation_generator = image_generator.flow_from_dataframe(\n",
    "    dataframe = new_df.iloc[test_ind,:],\n",
    "    directory = train_path,\n",
    "    x_col=\"image\",\n",
    "    y_col = target_columns,\n",
    "    weight_col=None,\n",
    "    target_size = network_size,\n",
    "    color_mode=\"rgb\",\n",
    "\n",
    "    class_mode=\"raw\",\n",
    "    batch_size=batch_size,\n",
    "    shuffle=False,\n",
    "    seed=None,\n",
    "\n",
    "    #subset='validation',\n",
    "    interpolation=\"box\"\n",
    ")"
   ]
  },
  {
   "cell_type": "code",
   "execution_count": 72,
   "id": "planned-graphic",
   "metadata": {},
   "outputs": [],
   "source": [
    "def f1(y_true, y_pred): #taken from old keras source code\n",
    "    true_positives = backend.sum(backend.round(backend.clip(y_true * y_pred, 0, 1)))\n",
    "    possible_positives = backend.sum(backend.round(backend.clip(y_true, 0, 1)))\n",
    "    predicted_positives = backend.sum(backend.round(backend.clip(y_pred, 0, 1)))\n",
    "    precision = true_positives / (predicted_positives + backend.epsilon())\n",
    "    recall = true_positives / (possible_positives + backend.epsilon())\n",
    "    f1_val = 2*(precision * recall)/(precision+recall+ backend.epsilon())\n",
    "    return f1_val"
   ]
  },
  {
   "cell_type": "code",
   "execution_count": 29,
   "id": "entire-trace",
   "metadata": {},
   "outputs": [],
   "source": [
    "loaded_model = models.load_model('model_best.h5', custom_objects={\"f1\": f1})"
   ]
  },
  {
   "cell_type": "code",
   "execution_count": 78,
   "id": "expanded-residence",
   "metadata": {},
   "outputs": [],
   "source": [
    "y_pred = loaded_model.predict_generator(generator = validation_generator)"
   ]
  },
  {
   "cell_type": "code",
   "execution_count": 79,
   "id": "split-leave",
   "metadata": {},
   "outputs": [
    {
     "data": {
      "text/plain": [
       "(2329, 6)"
      ]
     },
     "execution_count": 79,
     "metadata": {},
     "output_type": "execute_result"
    }
   ],
   "source": [
    "y_pred = np.round(y_pred)\n",
    "y_pred.shape"
   ]
  },
  {
   "cell_type": "code",
   "execution_count": 80,
   "id": "attempted-taylor",
   "metadata": {},
   "outputs": [
    {
     "name": "stdout",
     "output_type": "stream",
     "text": [
      "0\n",
      "1\n",
      "2\n",
      "3\n",
      "4\n",
      "5\n",
      "6\n",
      "7\n",
      "8\n",
      "9\n",
      "10\n",
      "11\n",
      "12\n",
      "13\n",
      "14\n",
      "15\n",
      "16\n",
      "17\n",
      "18\n",
      "19\n"
     ]
    }
   ],
   "source": [
    "gt = []\n",
    "counter = 0\n",
    "for batch in validation_generator:\n",
    "    print(counter)\n",
    "    counter += 1\n",
    "    if(counter == 20):\n",
    "        break\n",
    "    for i , j in enumerate(batch[1]):\n",
    "        gt.append(j)"
   ]
  },
  {
   "cell_type": "code",
   "execution_count": 81,
   "id": "executive-senegal",
   "metadata": {},
   "outputs": [
    {
     "data": {
      "text/plain": [
       "(2329, 6)"
      ]
     },
     "execution_count": 81,
     "metadata": {},
     "output_type": "execute_result"
    }
   ],
   "source": [
    "gt = np.asarray(gt)\n",
    "gt.shape"
   ]
  },
  {
   "cell_type": "code",
   "execution_count": 82,
   "id": "parliamentary-bibliography",
   "metadata": {},
   "outputs": [
    {
     "name": "stdout",
     "output_type": "stream",
     "text": [
      "              precision    recall  f1-score   support\n",
      "\n",
      "           0       0.88      0.98      0.93       578\n",
      "           1       0.95      0.63      0.76       713\n",
      "           2       0.87      0.85      0.86       544\n",
      "           3       0.77      0.56      0.65       269\n",
      "           4       0.74      0.96      0.84       261\n",
      "           5       0.94      0.83      0.88       158\n",
      "\n",
      "   micro avg       0.86      0.80      0.83      2523\n",
      "   macro avg       0.86      0.80      0.82      2523\n",
      "weighted avg       0.87      0.80      0.82      2523\n",
      " samples avg       0.84      0.82      0.83      2523\n",
      "\n"
     ]
    },
    {
     "name": "stderr",
     "output_type": "stream",
     "text": [
      "/home/bbayraktar/anaconda3/envs/lazyprogrammer/lib/python3.7/site-packages/sklearn/metrics/_classification.py:1221: UndefinedMetricWarning: Precision and F-score are ill-defined and being set to 0.0 in samples with no predicted labels. Use `zero_division` parameter to control this behavior.\n",
      "  _warn_prf(average, modifier, msg_start, len(result))\n"
     ]
    },
    {
     "data": {
      "image/png": "[encoded data removed]",
      "text/plain": [
       "<Figure size 432x288 with 2 Axes>"
      ]
     },
     "metadata": {
      "needs_background": "light"
     },
     "output_type": "display_data"
    }
   ],
   "source": [
    "from sklearn.metrics import confusion_matrix, ConfusionMatrixDisplay, classification_report\n",
    "matrix = confusion_matrix(gt.argmax(axis=1), y_pred.argmax(axis=1))\n",
    "disp = ConfusionMatrixDisplay(confusion_matrix=matrix, display_labels = ['healthy', 'scab', 'frog_eye_leaf_spot', 'complex', 'rust', 'powdery_mildew'])\n",
    "disp.plot()\n",
    "\n",
    "report = classification_report(gt, y_pred)\n",
    "print(report)"
   ]
  },
  {
   "cell_type": "code",
   "execution_count": 84,
   "id": "wired-letters",
   "metadata": {},
   "outputs": [
    {
     "name": "stdout",
     "output_type": "stream",
     "text": [
      "Found 3 validated image filenames belonging to 1 classes.\n"
     ]
    }
   ],
   "source": [
    "from tensorflow import keras\n",
    "test_df = pd.read_csv('/mnt/hdd_data/bbayraktar/plant-pathology-2021-fgvc8/sample_submission.csv')\n",
    "\n",
    "\n",
    "test_generator = keras.preprocessing.image.ImageDataGenerator(\n",
    "    rescale = 1/255\n",
    ")\n",
    "\n",
    "\n",
    "test_generator = test_generator.flow_from_dataframe(\n",
    "    dataframe= test_df,\n",
    "    directory = test_path,\n",
    "    x_col = \"image\",\n",
    "    y_col = 'labels',\n",
    "    target_size = network_size,\n",
    "    color_mode=\"rgb\",\n",
    "\n",
    "    batch_size=1,\n",
    "    shuffle=False,\n",
    "    seed=None,\n",
    "\n",
    "    subset=None,\n",
    "    \n",
    "    interpolation=\"box\"\n",
    ")"
   ]
  },
  {
   "cell_type": "code",
   "execution_count": 153,
   "id": "foreign-trail",
   "metadata": {},
   "outputs": [],
   "source": [
    "answer = loaded_model.predict(train_generator)\n",
    "\n"
   ]
  },
  {
   "cell_type": "code",
   "execution_count": 160,
   "id": "durable-grass",
   "metadata": {},
   "outputs": [],
   "source": [
    "answer > 0.5\n",
    "total_pred = []\n",
    "for ans in answer:\n",
    "    ans = ans > 0.5\n",
    "    ids = np.where(ans)[0]\n",
    "    pred_cls = []\n",
    "    if ids.size == 0:\n",
    "        pred_cls.append(target_columns[0])\n",
    "    for id_ in ids:\n",
    "        pred_cls.append(target_columns[id_])\n",
    "    pred_cls = \" \".join(pred_cls)\n",
    "    total_pred.append(pred_cls)\n",
    "    \n",
    "train_df =  new_df.iloc[train_ind,:2]\n",
    "train_df.to_csv('gt.csv', index = False)\n",
    "train_df['labels'] = np.array(total_pred)\n",
    "train_df.sort_index()\n",
    "train_df.to_csv('pred.csv', index = False)\n",
    "#new_df.iloc[train_ind,:]"
   ]
  },
  {
   "cell_type": "code",
   "execution_count": 56,
   "id": "acute-difficulty",
   "metadata": {},
   "outputs": [
    {
     "ename": "ValueError",
     "evalue": "Length of values (16303) does not match length of index (3)",
     "output_type": "error",
     "traceback": [
      "\u001b[0;31m---------------------------------------------------------------------------\u001b[0m",
      "\u001b[0;31mValueError\u001b[0m                                Traceback (most recent call last)",
      "\u001b[0;32m<ipython-input-56-5228b456c171>\u001b[0m in \u001b[0;36m<module>\u001b[0;34m\u001b[0m\n\u001b[0;32m----> 1\u001b[0;31m \u001b[0mtest_df\u001b[0m\u001b[0;34m[\u001b[0m\u001b[0;34m'labels'\u001b[0m\u001b[0;34m]\u001b[0m \u001b[0;34m=\u001b[0m \u001b[0mnp\u001b[0m\u001b[0;34m.\u001b[0m\u001b[0marray\u001b[0m\u001b[0;34m(\u001b[0m\u001b[0mtot\u001b[0m\u001b[0;34m)\u001b[0m\u001b[0;34m\u001b[0m\u001b[0;34m\u001b[0m\u001b[0m\n\u001b[0m\u001b[1;32m      2\u001b[0m \u001b[0;34m\u001b[0m\u001b[0m\n\u001b[1;32m      3\u001b[0m \u001b[0mtest_df\u001b[0m\u001b[0;34m\u001b[0m\u001b[0;34m\u001b[0m\u001b[0m\n",
      "\u001b[0;32m~/anaconda3/envs/lazyprogrammer/lib/python3.7/site-packages/pandas/core/frame.py\u001b[0m in \u001b[0;36m__setitem__\u001b[0;34m(self, key, value)\u001b[0m\n\u001b[1;32m   3161\u001b[0m         \u001b[0;32melse\u001b[0m\u001b[0;34m:\u001b[0m\u001b[0;34m\u001b[0m\u001b[0;34m\u001b[0m\u001b[0m\n\u001b[1;32m   3162\u001b[0m             \u001b[0;31m# set column\u001b[0m\u001b[0;34m\u001b[0m\u001b[0;34m\u001b[0m\u001b[0;34m\u001b[0m\u001b[0m\n\u001b[0;32m-> 3163\u001b[0;31m             \u001b[0mself\u001b[0m\u001b[0;34m.\u001b[0m\u001b[0m_set_item\u001b[0m\u001b[0;34m(\u001b[0m\u001b[0mkey\u001b[0m\u001b[0;34m,\u001b[0m \u001b[0mvalue\u001b[0m\u001b[0;34m)\u001b[0m\u001b[0;34m\u001b[0m\u001b[0;34m\u001b[0m\u001b[0m\n\u001b[0m\u001b[1;32m   3164\u001b[0m \u001b[0;34m\u001b[0m\u001b[0m\n\u001b[1;32m   3165\u001b[0m     \u001b[0;32mdef\u001b[0m \u001b[0m_setitem_slice\u001b[0m\u001b[0;34m(\u001b[0m\u001b[0mself\u001b[0m\u001b[0;34m,\u001b[0m \u001b[0mkey\u001b[0m\u001b[0;34m:\u001b[0m \u001b[0mslice\u001b[0m\u001b[0;34m,\u001b[0m \u001b[0mvalue\u001b[0m\u001b[0;34m)\u001b[0m\u001b[0;34m:\u001b[0m\u001b[0;34m\u001b[0m\u001b[0;34m\u001b[0m\u001b[0m\n",
      "\u001b[0;32m~/anaconda3/envs/lazyprogrammer/lib/python3.7/site-packages/pandas/core/frame.py\u001b[0m in \u001b[0;36m_set_item\u001b[0;34m(self, key, value)\u001b[0m\n\u001b[1;32m   3240\u001b[0m         \"\"\"\n\u001b[1;32m   3241\u001b[0m         \u001b[0mself\u001b[0m\u001b[0;34m.\u001b[0m\u001b[0m_ensure_valid_index\u001b[0m\u001b[0;34m(\u001b[0m\u001b[0mvalue\u001b[0m\u001b[0;34m)\u001b[0m\u001b[0;34m\u001b[0m\u001b[0;34m\u001b[0m\u001b[0m\n\u001b[0;32m-> 3242\u001b[0;31m         \u001b[0mvalue\u001b[0m \u001b[0;34m=\u001b[0m \u001b[0mself\u001b[0m\u001b[0;34m.\u001b[0m\u001b[0m_sanitize_column\u001b[0m\u001b[0;34m(\u001b[0m\u001b[0mkey\u001b[0m\u001b[0;34m,\u001b[0m \u001b[0mvalue\u001b[0m\u001b[0;34m)\u001b[0m\u001b[0;34m\u001b[0m\u001b[0;34m\u001b[0m\u001b[0m\n\u001b[0m\u001b[1;32m   3243\u001b[0m         \u001b[0mNDFrame\u001b[0m\u001b[0;34m.\u001b[0m\u001b[0m_set_item\u001b[0m\u001b[0;34m(\u001b[0m\u001b[0mself\u001b[0m\u001b[0;34m,\u001b[0m \u001b[0mkey\u001b[0m\u001b[0;34m,\u001b[0m \u001b[0mvalue\u001b[0m\u001b[0;34m)\u001b[0m\u001b[0;34m\u001b[0m\u001b[0;34m\u001b[0m\u001b[0m\n\u001b[1;32m   3244\u001b[0m \u001b[0;34m\u001b[0m\u001b[0m\n",
      "\u001b[0;32m~/anaconda3/envs/lazyprogrammer/lib/python3.7/site-packages/pandas/core/frame.py\u001b[0m in \u001b[0;36m_sanitize_column\u001b[0;34m(self, key, value, broadcast)\u001b[0m\n\u001b[1;32m   3897\u001b[0m \u001b[0;34m\u001b[0m\u001b[0m\n\u001b[1;32m   3898\u001b[0m             \u001b[0;31m# turn me into an ndarray\u001b[0m\u001b[0;34m\u001b[0m\u001b[0;34m\u001b[0m\u001b[0;34m\u001b[0m\u001b[0m\n\u001b[0;32m-> 3899\u001b[0;31m             \u001b[0mvalue\u001b[0m \u001b[0;34m=\u001b[0m \u001b[0msanitize_index\u001b[0m\u001b[0;34m(\u001b[0m\u001b[0mvalue\u001b[0m\u001b[0;34m,\u001b[0m \u001b[0mself\u001b[0m\u001b[0;34m.\u001b[0m\u001b[0mindex\u001b[0m\u001b[0;34m)\u001b[0m\u001b[0;34m\u001b[0m\u001b[0;34m\u001b[0m\u001b[0m\n\u001b[0m\u001b[1;32m   3900\u001b[0m             \u001b[0;32mif\u001b[0m \u001b[0;32mnot\u001b[0m \u001b[0misinstance\u001b[0m\u001b[0;34m(\u001b[0m\u001b[0mvalue\u001b[0m\u001b[0;34m,\u001b[0m \u001b[0;34m(\u001b[0m\u001b[0mnp\u001b[0m\u001b[0;34m.\u001b[0m\u001b[0mndarray\u001b[0m\u001b[0;34m,\u001b[0m \u001b[0mIndex\u001b[0m\u001b[0;34m)\u001b[0m\u001b[0;34m)\u001b[0m\u001b[0;34m:\u001b[0m\u001b[0;34m\u001b[0m\u001b[0;34m\u001b[0m\u001b[0m\n\u001b[1;32m   3901\u001b[0m                 \u001b[0;32mif\u001b[0m \u001b[0misinstance\u001b[0m\u001b[0;34m(\u001b[0m\u001b[0mvalue\u001b[0m\u001b[0;34m,\u001b[0m \u001b[0mlist\u001b[0m\u001b[0;34m)\u001b[0m \u001b[0;32mand\u001b[0m \u001b[0mlen\u001b[0m\u001b[0;34m(\u001b[0m\u001b[0mvalue\u001b[0m\u001b[0;34m)\u001b[0m \u001b[0;34m>\u001b[0m \u001b[0;36m0\u001b[0m\u001b[0;34m:\u001b[0m\u001b[0;34m\u001b[0m\u001b[0;34m\u001b[0m\u001b[0m\n",
      "\u001b[0;32m~/anaconda3/envs/lazyprogrammer/lib/python3.7/site-packages/pandas/core/internals/construction.py\u001b[0m in \u001b[0;36msanitize_index\u001b[0;34m(data, index)\u001b[0m\n\u001b[1;32m    750\u001b[0m     \u001b[0;32mif\u001b[0m \u001b[0mlen\u001b[0m\u001b[0;34m(\u001b[0m\u001b[0mdata\u001b[0m\u001b[0;34m)\u001b[0m \u001b[0;34m!=\u001b[0m \u001b[0mlen\u001b[0m\u001b[0;34m(\u001b[0m\u001b[0mindex\u001b[0m\u001b[0;34m)\u001b[0m\u001b[0;34m:\u001b[0m\u001b[0;34m\u001b[0m\u001b[0;34m\u001b[0m\u001b[0m\n\u001b[1;32m    751\u001b[0m         raise ValueError(\n\u001b[0;32m--> 752\u001b[0;31m             \u001b[0;34m\"Length of values \"\u001b[0m\u001b[0;34m\u001b[0m\u001b[0;34m\u001b[0m\u001b[0m\n\u001b[0m\u001b[1;32m    753\u001b[0m             \u001b[0;34mf\"({len(data)}) \"\u001b[0m\u001b[0;34m\u001b[0m\u001b[0;34m\u001b[0m\u001b[0m\n\u001b[1;32m    754\u001b[0m             \u001b[0;34m\"does not match length of index \"\u001b[0m\u001b[0;34m\u001b[0m\u001b[0;34m\u001b[0m\u001b[0m\n",
      "\u001b[0;31mValueError\u001b[0m: Length of values (16303) does not match length of index (3)"
     ]
    }
   ],
   "source": [
    "test_df['labels'] = np.array(tot)\n",
    "\n",
    "test_df"
   ]
  },
  {
   "cell_type": "code",
   "execution_count": null,
   "id": "dramatic-value",
   "metadata": {},
   "outputs": [],
   "source": [
    "test_df.to_csv('submission_train.csv', index = False)"
   ]
  }
 ],
 "metadata": {
  "kernelspec": {
   "display_name": "Python 3",
   "language": "python",
   "name": "python3"
  },
  "language_info": {
   "codemirror_mode": {
    "name": "ipython",
    "version": 3
   },
   "file_extension": ".py",
   "mimetype": "text/x-python",
   "name": "python",
   "nbconvert_exporter": "python",
   "pygments_lexer": "ipython3",
   "version": "3.7.10"
  }
 },
 "nbformat": 4,
 "nbformat_minor": 5
}
