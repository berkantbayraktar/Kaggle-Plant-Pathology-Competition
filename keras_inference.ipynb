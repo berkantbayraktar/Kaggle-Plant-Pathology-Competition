{
 "cells": [
  {
   "cell_type": "code",
   "execution_count": 1,
   "id": "df2a5058",
   "metadata": {},
   "outputs": [],
   "source": [
    "import numpy as np # linear algebra\n",
    "import pandas as pd # data processing, CSV file I/O (e.g. pd.read_csv)\n",
    "import matplotlib.pyplot as plt\n",
    "from sklearn.model_selection import StratifiedKFold\n",
    "from collections import defaultdict\n",
    "\n",
    "\n",
    "import tensorflow as tf\n",
    "import os\n",
    "import cv2\n",
    "from tensorflow.keras import models\n",
    "from tensorflow.keras import layers\n",
    "from tensorflow.keras import optimizers\n",
    "from tensorflow.keras import Input\n",
    "from tensorflow.keras import utils\n",
    "from tensorflow.keras import datasets\n",
    "from tensorflow.keras import preprocessing\n",
    "from tensorflow.keras import metrics\n",
    "from tensorflow.keras.applications.resnet import ResNet50\n",
    "from tensorflow.keras.callbacks import EarlyStopping, ModelCheckpoint, LearningRateScheduler\n",
    "from tensorflow.keras.optimizers import SGD\n",
    "from pylab import rcParams\n",
    "from tensorflow.keras import backend"
   ]
  },
  {
   "cell_type": "code",
   "execution_count": 2,
   "id": "96c79d29",
   "metadata": {},
   "outputs": [
    {
     "data": {
      "text/html": [
       "<div>\n",
       "<style scoped>\n",
       "    .dataframe tbody tr th:only-of-type {\n",
       "        vertical-align: middle;\n",
       "    }\n",
       "\n",
       "    .dataframe tbody tr th {\n",
       "        vertical-align: top;\n",
       "    }\n",
       "\n",
       "    .dataframe thead th {\n",
       "        text-align: right;\n",
       "    }\n",
       "</style>\n",
       "<table border=\"1\" class=\"dataframe\">\n",
       "  <thead>\n",
       "    <tr style=\"text-align: right;\">\n",
       "      <th></th>\n",
       "      <th>image</th>\n",
       "      <th>labels</th>\n",
       "    </tr>\n",
       "  </thead>\n",
       "  <tbody>\n",
       "    <tr>\n",
       "      <th>0</th>\n",
       "      <td>800113bb65efe69e.jpg</td>\n",
       "      <td>healthy</td>\n",
       "    </tr>\n",
       "    <tr>\n",
       "      <th>1</th>\n",
       "      <td>8002cb321f8bfcdf.jpg</td>\n",
       "      <td>scab frog_eye_leaf_spot complex</td>\n",
       "    </tr>\n",
       "    <tr>\n",
       "      <th>2</th>\n",
       "      <td>80070f7fb5e2ccaa.jpg</td>\n",
       "      <td>scab</td>\n",
       "    </tr>\n",
       "    <tr>\n",
       "      <th>3</th>\n",
       "      <td>80077517781fb94f.jpg</td>\n",
       "      <td>scab</td>\n",
       "    </tr>\n",
       "    <tr>\n",
       "      <th>4</th>\n",
       "      <td>800cbf0ff87721f8.jpg</td>\n",
       "      <td>complex</td>\n",
       "    </tr>\n",
       "  </tbody>\n",
       "</table>\n",
       "</div>"
      ],
      "text/plain": [
       "                  image                           labels\n",
       "0  800113bb65efe69e.jpg                          healthy\n",
       "1  8002cb321f8bfcdf.jpg  scab frog_eye_leaf_spot complex\n",
       "2  80070f7fb5e2ccaa.jpg                             scab\n",
       "3  80077517781fb94f.jpg                             scab\n",
       "4  800cbf0ff87721f8.jpg                          complex"
      ]
     },
     "execution_count": 2,
     "metadata": {},
     "output_type": "execute_result"
    }
   ],
   "source": [
    "train_path = 'data/train_images_resized'\n",
    "test_path = 'data/test_images_resized'\n",
    "\n",
    "df = pd.read_csv('data/train.csv')\n",
    "df.head()"
   ]
  },
  {
   "cell_type": "code",
   "execution_count": 3,
   "id": "6f711ec7",
   "metadata": {},
   "outputs": [
    {
     "data": {
      "text/plain": [
       "{'healthy': array([    0,     5,     7, ..., 18626, 18627, 18631]),\n",
       " 'scab': array([    1,     2,     3, ..., 18625, 18628, 18630]),\n",
       " 'frog_eye_leaf_spot': array([    1,    14,    31, ..., 18612, 18619, 18630]),\n",
       " 'complex': array([    1,     4,     8, ..., 18597, 18604, 18617]),\n",
       " 'rust': array([    6,    21,    26, ..., 18601, 18616, 18629]),\n",
       " 'powdery_mildew': array([   20,    39,    44, ..., 18532, 18617, 18618])}"
      ]
     },
     "execution_count": 3,
     "metadata": {},
     "output_type": "execute_result"
    }
   ],
   "source": [
    "dct = defaultdict(list)\n",
    "\n",
    "for i, label in enumerate(df.labels):\n",
    "    for category in label.split():\n",
    "        dct[category].append(i)\n",
    "\n",
    "dct = {key: np.array(val) for key, val in dct.items()}\n",
    "dct"
   ]
  },
  {
   "cell_type": "code",
   "execution_count": 4,
   "id": "deb199e0",
   "metadata": {},
   "outputs": [
    {
     "data": {
      "text/html": [
       "<div>\n",
       "<style scoped>\n",
       "    .dataframe tbody tr th:only-of-type {\n",
       "        vertical-align: middle;\n",
       "    }\n",
       "\n",
       "    .dataframe tbody tr th {\n",
       "        vertical-align: top;\n",
       "    }\n",
       "\n",
       "    .dataframe thead th {\n",
       "        text-align: right;\n",
       "    }\n",
       "</style>\n",
       "<table border=\"1\" class=\"dataframe\">\n",
       "  <thead>\n",
       "    <tr style=\"text-align: right;\">\n",
       "      <th></th>\n",
       "      <th>healthy</th>\n",
       "      <th>scab</th>\n",
       "      <th>frog_eye_leaf_spot</th>\n",
       "      <th>complex</th>\n",
       "      <th>rust</th>\n",
       "      <th>powdery_mildew</th>\n",
       "    </tr>\n",
       "  </thead>\n",
       "  <tbody>\n",
       "    <tr>\n",
       "      <th>0</th>\n",
       "      <td>1</td>\n",
       "      <td>0</td>\n",
       "      <td>0</td>\n",
       "      <td>0</td>\n",
       "      <td>0</td>\n",
       "      <td>0</td>\n",
       "    </tr>\n",
       "    <tr>\n",
       "      <th>1</th>\n",
       "      <td>0</td>\n",
       "      <td>1</td>\n",
       "      <td>1</td>\n",
       "      <td>1</td>\n",
       "      <td>0</td>\n",
       "      <td>0</td>\n",
       "    </tr>\n",
       "    <tr>\n",
       "      <th>2</th>\n",
       "      <td>0</td>\n",
       "      <td>1</td>\n",
       "      <td>0</td>\n",
       "      <td>0</td>\n",
       "      <td>0</td>\n",
       "      <td>0</td>\n",
       "    </tr>\n",
       "    <tr>\n",
       "      <th>3</th>\n",
       "      <td>0</td>\n",
       "      <td>1</td>\n",
       "      <td>0</td>\n",
       "      <td>0</td>\n",
       "      <td>0</td>\n",
       "      <td>0</td>\n",
       "    </tr>\n",
       "    <tr>\n",
       "      <th>4</th>\n",
       "      <td>0</td>\n",
       "      <td>0</td>\n",
       "      <td>0</td>\n",
       "      <td>1</td>\n",
       "      <td>0</td>\n",
       "      <td>0</td>\n",
       "    </tr>\n",
       "  </tbody>\n",
       "</table>\n",
       "</div>"
      ],
      "text/plain": [
       "   healthy  scab  frog_eye_leaf_spot  complex  rust  powdery_mildew\n",
       "0        1     0                   0        0     0               0\n",
       "1        0     1                   1        1     0               0\n",
       "2        0     1                   0        0     0               0\n",
       "3        0     1                   0        0     0               0\n",
       "4        0     0                   0        1     0               0"
      ]
     },
     "execution_count": 4,
     "metadata": {},
     "output_type": "execute_result"
    }
   ],
   "source": [
    "new_df = pd.DataFrame(np.zeros((df.shape[0], len(dct.keys())), dtype = np.int8), columns = dct.keys())\n",
    "\n",
    "for key, val in dct.items():\n",
    "    new_df.loc[val, key] = 1\n",
    "\n",
    "new_df.head()"
   ]
  },
  {
   "cell_type": "code",
   "execution_count": 5,
   "id": "2d940976",
   "metadata": {},
   "outputs": [
    {
     "data": {
      "text/plain": [
       "healthy               4624\n",
       "scab                  5712\n",
       "frog_eye_leaf_spot    4352\n",
       "complex               2151\n",
       "rust                  2077\n",
       "powdery_mildew        1271\n",
       "dtype: int64"
      ]
     },
     "execution_count": 5,
     "metadata": {},
     "output_type": "execute_result"
    }
   ],
   "source": [
    "new_df.sum(axis = 0)"
   ]
  },
  {
   "cell_type": "code",
   "execution_count": 6,
   "id": "e4a2da83",
   "metadata": {},
   "outputs": [
    {
     "data": {
      "text/plain": [
       "array([1, 1, 1, ..., 3, 3, 3])"
      ]
     },
     "execution_count": 6,
     "metadata": {},
     "output_type": "execute_result"
    }
   ],
   "source": [
    "cats_total = new_df.sum(axis = 1).values\n",
    "\n",
    "np.sort(cats_total)\n"
   ]
  },
  {
   "cell_type": "code",
   "execution_count": 7,
   "id": "54998c7b",
   "metadata": {},
   "outputs": [
    {
     "data": {
      "text/plain": [
       "Counter({'healthy': 4624,\n",
       "         'scab frog_eye_leaf_spot complex': 200,\n",
       "         'scab': 4826,\n",
       "         'complex': 1602,\n",
       "         'rust': 1860,\n",
       "         'frog_eye_leaf_spot': 3181,\n",
       "         'powdery_mildew': 1184,\n",
       "         'scab frog_eye_leaf_spot': 686,\n",
       "         'frog_eye_leaf_spot complex': 165,\n",
       "         'rust frog_eye_leaf_spot': 120,\n",
       "         'powdery_mildew complex': 87,\n",
       "         'rust complex': 97})"
      ]
     },
     "execution_count": 7,
     "metadata": {},
     "output_type": "execute_result"
    }
   ],
   "source": [
    "from collections import Counter\n",
    "\n",
    "Counter(df.labels)"
   ]
  },
  {
   "cell_type": "code",
   "execution_count": 8,
   "id": "36a6b932",
   "metadata": {},
   "outputs": [
    {
     "data": {
      "text/plain": [
       "0        0\n",
       "1        1\n",
       "2        2\n",
       "3        2\n",
       "4        3\n",
       "        ..\n",
       "18627    0\n",
       "18628    2\n",
       "18629    4\n",
       "18630    7\n",
       "18631    0\n",
       "Name: labs, Length: 18632, dtype: int64"
      ]
     },
     "execution_count": 8,
     "metadata": {},
     "output_type": "execute_result"
    }
   ],
   "source": [
    "ks = {k: i for i,k in enumerate(Counter(df.labels).keys())}\n",
    "new_df['labs'] = np.array([ks[v] for v in df.labels])\n",
    "new_df['labs']"
   ]
  },
  {
   "cell_type": "code",
   "execution_count": 9,
   "id": "496eac88",
   "metadata": {},
   "outputs": [
    {
     "data": {
      "text/html": [
       "<div>\n",
       "<style scoped>\n",
       "    .dataframe tbody tr th:only-of-type {\n",
       "        vertical-align: middle;\n",
       "    }\n",
       "\n",
       "    .dataframe tbody tr th {\n",
       "        vertical-align: top;\n",
       "    }\n",
       "\n",
       "    .dataframe thead th {\n",
       "        text-align: right;\n",
       "    }\n",
       "</style>\n",
       "<table border=\"1\" class=\"dataframe\">\n",
       "  <thead>\n",
       "    <tr style=\"text-align: right;\">\n",
       "      <th></th>\n",
       "      <th>image</th>\n",
       "      <th>labels</th>\n",
       "      <th>healthy</th>\n",
       "      <th>scab</th>\n",
       "      <th>frog_eye_leaf_spot</th>\n",
       "      <th>complex</th>\n",
       "      <th>rust</th>\n",
       "      <th>powdery_mildew</th>\n",
       "      <th>labs</th>\n",
       "    </tr>\n",
       "  </thead>\n",
       "  <tbody>\n",
       "    <tr>\n",
       "      <th>0</th>\n",
       "      <td>800113bb65efe69e.jpg</td>\n",
       "      <td>healthy</td>\n",
       "      <td>1</td>\n",
       "      <td>0</td>\n",
       "      <td>0</td>\n",
       "      <td>0</td>\n",
       "      <td>0</td>\n",
       "      <td>0</td>\n",
       "      <td>0</td>\n",
       "    </tr>\n",
       "    <tr>\n",
       "      <th>1</th>\n",
       "      <td>8002cb321f8bfcdf.jpg</td>\n",
       "      <td>scab frog_eye_leaf_spot complex</td>\n",
       "      <td>0</td>\n",
       "      <td>1</td>\n",
       "      <td>1</td>\n",
       "      <td>1</td>\n",
       "      <td>0</td>\n",
       "      <td>0</td>\n",
       "      <td>1</td>\n",
       "    </tr>\n",
       "    <tr>\n",
       "      <th>2</th>\n",
       "      <td>80070f7fb5e2ccaa.jpg</td>\n",
       "      <td>scab</td>\n",
       "      <td>0</td>\n",
       "      <td>1</td>\n",
       "      <td>0</td>\n",
       "      <td>0</td>\n",
       "      <td>0</td>\n",
       "      <td>0</td>\n",
       "      <td>2</td>\n",
       "    </tr>\n",
       "    <tr>\n",
       "      <th>3</th>\n",
       "      <td>80077517781fb94f.jpg</td>\n",
       "      <td>scab</td>\n",
       "      <td>0</td>\n",
       "      <td>1</td>\n",
       "      <td>0</td>\n",
       "      <td>0</td>\n",
       "      <td>0</td>\n",
       "      <td>0</td>\n",
       "      <td>2</td>\n",
       "    </tr>\n",
       "    <tr>\n",
       "      <th>4</th>\n",
       "      <td>800cbf0ff87721f8.jpg</td>\n",
       "      <td>complex</td>\n",
       "      <td>0</td>\n",
       "      <td>0</td>\n",
       "      <td>0</td>\n",
       "      <td>1</td>\n",
       "      <td>0</td>\n",
       "      <td>0</td>\n",
       "      <td>3</td>\n",
       "    </tr>\n",
       "  </tbody>\n",
       "</table>\n",
       "</div>"
      ],
      "text/plain": [
       "                  image                           labels  healthy  scab  \\\n",
       "0  800113bb65efe69e.jpg                          healthy        1     0   \n",
       "1  8002cb321f8bfcdf.jpg  scab frog_eye_leaf_spot complex        0     1   \n",
       "2  80070f7fb5e2ccaa.jpg                             scab        0     1   \n",
       "3  80077517781fb94f.jpg                             scab        0     1   \n",
       "4  800cbf0ff87721f8.jpg                          complex        0     0   \n",
       "\n",
       "   frog_eye_leaf_spot  complex  rust  powdery_mildew  labs  \n",
       "0                   0        0     0               0     0  \n",
       "1                   1        1     0               0     1  \n",
       "2                   0        0     0               0     2  \n",
       "3                   0        0     0               0     2  \n",
       "4                   0        1     0               0     3  "
      ]
     },
     "execution_count": 9,
     "metadata": {},
     "output_type": "execute_result"
    }
   ],
   "source": [
    "new_df = pd.concat([df, new_df], axis = 1)\n",
    "\n",
    "new_df.head()"
   ]
  },
  {
   "cell_type": "code",
   "execution_count": 10,
   "id": "60b72a22",
   "metadata": {},
   "outputs": [
    {
     "data": {
      "text/plain": [
       "['healthy', 'scab', 'frog_eye_leaf_spot', 'complex', 'rust', 'powdery_mildew']"
      ]
     },
     "execution_count": 10,
     "metadata": {},
     "output_type": "execute_result"
    }
   ],
   "source": [
    "target_columns = list(new_df.columns[2:-1])\n",
    "\n",
    "target_columns"
   ]
  },
  {
   "cell_type": "code",
   "execution_count": 11,
   "id": "c8c05151",
   "metadata": {},
   "outputs": [],
   "source": [
    "network_size = (299,299)\n",
    "number_of_classes = 6"
   ]
  },
  {
   "cell_type": "code",
   "execution_count": 27,
   "id": "30dd3773",
   "metadata": {},
   "outputs": [
    {
     "name": "stdout",
     "output_type": "stream",
     "text": [
      "Found 16303 validated image filenames.\n",
      "Found 2329 validated image filenames.\n"
     ]
    }
   ],
   "source": [
    "batch_size = 16\n",
    "image_generator = preprocessing.image.ImageDataGenerator(\n",
    "    rescale = 1/255,\n",
    "    \n",
    "    featurewise_center=False,\n",
    "    samplewise_center=False,\n",
    "    featurewise_std_normalization=False,\n",
    "    samplewise_std_normalization=False,\n",
    "    \n",
    "    rotation_range=30, \n",
    "    zoom_range=0.15,\n",
    "    width_shift_range=0.2, \n",
    "    height_shift_range=0.2, \n",
    "    shear_range=0.15,\n",
    "    horizontal_flip=True, \n",
    "    vertical_flip=False,\n",
    "    fill_mode=\"reflect\"#,\n",
    "    #validation_split = 0.3\n",
    "  )\n",
    "\n",
    "\n",
    "\n",
    "new_df = new_df.iloc[np.random.choice(new_df.shape[0], new_df.shape[0], replace = False),:]\n",
    "\n",
    "skf = StratifiedKFold(n_splits = 8, shuffle = True, random_state = 1488)\n",
    "\n",
    "train_ind, test_ind = next(skf.split(new_df, new_df['labs']))\n",
    "\n",
    "train_generator = image_generator.flow_from_dataframe(\n",
    "    dataframe = new_df.iloc[train_ind,:],\n",
    "    directory = train_path,\n",
    "    x_col=\"image\",\n",
    "    y_col = target_columns,\n",
    "    weight_col=None,\n",
    "    target_size = network_size,\n",
    "    color_mode=\"rgb\",\n",
    "\n",
    "    class_mode=\"raw\",\n",
    "    batch_size=batch_size,\n",
    "    shuffle=False,\n",
    "    seed=None\n",
    ")\n",
    "\n",
    "validation_generator = image_generator.flow_from_dataframe(\n",
    "    dataframe = new_df.iloc[test_ind,:],\n",
    "    directory = train_path,\n",
    "    x_col=\"image\",\n",
    "    y_col = target_columns,\n",
    "    weight_col=None,\n",
    "    target_size = network_size,\n",
    "    color_mode=\"rgb\",\n",
    "\n",
    "    class_mode=\"raw\",\n",
    "    batch_size=batch_size,\n",
    "    shuffle=False,\n",
    "    seed=None\n",
    ")"
   ]
  },
  {
   "cell_type": "code",
   "execution_count": 13,
   "id": "1fcb2dc4",
   "metadata": {},
   "outputs": [],
   "source": [
    "def f1(y_true, y_pred): #taken from old keras source code\n",
    "    true_positives = backend.sum(backend.round(backend.clip(y_true * y_pred, 0, 1)))\n",
    "    possible_positives = backend.sum(backend.round(backend.clip(y_true, 0, 1)))\n",
    "    predicted_positives = backend.sum(backend.round(backend.clip(y_pred, 0, 1)))\n",
    "    precision = true_positives / (predicted_positives + backend.epsilon())\n",
    "    recall = true_positives / (possible_positives + backend.epsilon())\n",
    "    f1_val = 2*(precision * recall)/(precision+recall+ backend.epsilon())\n",
    "    return f1_val"
   ]
  },
  {
   "cell_type": "code",
   "execution_count": 14,
   "id": "c2fc1e50",
   "metadata": {},
   "outputs": [],
   "source": [
    "loaded_model = models.load_model('model_xception_best.h5', custom_objects={\"f1\": f1})"
   ]
  },
  {
   "cell_type": "code",
   "execution_count": 28,
   "id": "3ddb8be7",
   "metadata": {},
   "outputs": [
    {
     "name": "stderr",
     "output_type": "stream",
     "text": [
      "/home/berkant/anaconda3/envs/lazyprogrammer/lib/python3.9/site-packages/tensorflow/python/keras/engine/training.py:1905: UserWarning: `Model.predict_generator` is deprecated and will be removed in a future version. Please use `Model.predict`, which supports generators.\n",
      "  warnings.warn('`Model.predict_generator` is deprecated and '\n"
     ]
    }
   ],
   "source": [
    "y_pred = loaded_model.predict_generator(generator = validation_generator)"
   ]
  },
  {
   "cell_type": "code",
   "execution_count": 29,
   "id": "594ec1e0",
   "metadata": {},
   "outputs": [
    {
     "data": {
      "text/plain": [
       "(2329, 6)"
      ]
     },
     "execution_count": 29,
     "metadata": {},
     "output_type": "execute_result"
    }
   ],
   "source": [
    "y_pred = np.round(y_pred)\n",
    "y_pred.shape"
   ]
  },
  {
   "cell_type": "code",
   "execution_count": 30,
   "id": "fd27c275",
   "metadata": {},
   "outputs": [
    {
     "name": "stdout",
     "output_type": "stream",
     "text": [
      "0\n",
      "1\n",
      "2\n",
      "3\n",
      "4\n",
      "5\n",
      "6\n",
      "7\n",
      "8\n",
      "9\n",
      "10\n",
      "11\n",
      "12\n",
      "13\n",
      "14\n",
      "15\n",
      "16\n",
      "17\n",
      "18\n",
      "19\n",
      "20\n",
      "21\n",
      "22\n",
      "23\n",
      "24\n",
      "25\n",
      "26\n",
      "27\n",
      "28\n",
      "29\n",
      "30\n",
      "31\n",
      "32\n",
      "33\n",
      "34\n",
      "35\n",
      "36\n",
      "37\n",
      "38\n",
      "39\n",
      "40\n",
      "41\n",
      "42\n",
      "43\n",
      "44\n",
      "45\n",
      "46\n",
      "47\n",
      "48\n",
      "49\n",
      "50\n",
      "51\n",
      "52\n",
      "53\n",
      "54\n",
      "55\n",
      "56\n",
      "57\n",
      "58\n",
      "59\n",
      "60\n",
      "61\n",
      "62\n",
      "63\n",
      "64\n",
      "65\n",
      "66\n",
      "67\n",
      "68\n",
      "69\n",
      "70\n",
      "71\n",
      "72\n",
      "73\n",
      "74\n",
      "75\n",
      "76\n",
      "77\n",
      "78\n",
      "79\n",
      "80\n",
      "81\n",
      "82\n",
      "83\n",
      "84\n",
      "85\n",
      "86\n",
      "87\n",
      "88\n",
      "89\n",
      "90\n",
      "91\n",
      "92\n",
      "93\n",
      "94\n",
      "95\n",
      "96\n",
      "97\n",
      "98\n",
      "99\n",
      "100\n",
      "101\n",
      "102\n",
      "103\n",
      "104\n",
      "105\n",
      "106\n",
      "107\n",
      "108\n",
      "109\n",
      "110\n",
      "111\n",
      "112\n",
      "113\n",
      "114\n",
      "115\n",
      "116\n",
      "117\n",
      "118\n",
      "119\n",
      "120\n",
      "121\n",
      "122\n",
      "123\n",
      "124\n",
      "125\n",
      "126\n",
      "127\n",
      "128\n",
      "129\n",
      "130\n",
      "131\n",
      "132\n",
      "133\n",
      "134\n",
      "135\n",
      "136\n",
      "137\n",
      "138\n",
      "139\n",
      "140\n",
      "141\n",
      "142\n",
      "143\n",
      "144\n",
      "145\n",
      "146\n"
     ]
    }
   ],
   "source": [
    "gt = []\n",
    "counter = 0\n",
    "for batch in validation_generator:\n",
    "    print(counter)\n",
    "    counter += 1\n",
    "    if(counter == 147):\n",
    "        break\n",
    "    for i , j in enumerate(batch[1]):\n",
    "        gt.append(j)"
   ]
  },
  {
   "cell_type": "code",
   "execution_count": 31,
   "id": "af073572",
   "metadata": {},
   "outputs": [
    {
     "data": {
      "text/plain": [
       "(2329, 6)"
      ]
     },
     "execution_count": 31,
     "metadata": {},
     "output_type": "execute_result"
    }
   ],
   "source": [
    "gt = np.asarray(gt)\n",
    "gt.shape"
   ]
  },
  {
   "cell_type": "code",
   "execution_count": 32,
   "id": "5abebdaa",
   "metadata": {},
   "outputs": [
    {
     "name": "stdout",
     "output_type": "stream",
     "text": [
      "              precision    recall  f1-score   support\n",
      "\n",
      "           0       0.99      0.99      0.99       578\n",
      "           1       0.92      0.93      0.93       714\n",
      "           2       0.91      0.88      0.89       544\n",
      "           3       0.82      0.75      0.78       268\n",
      "           4       0.94      0.90      0.92       260\n",
      "           5       0.97      0.97      0.97       159\n",
      "\n",
      "   micro avg       0.93      0.91      0.92      2523\n",
      "   macro avg       0.93      0.90      0.92      2523\n",
      "weighted avg       0.93      0.91      0.92      2523\n",
      " samples avg       0.94      0.94      0.94      2523\n",
      "\n"
     ]
    },
    {
     "name": "stderr",
     "output_type": "stream",
     "text": [
      "/home/berkant/anaconda3/envs/lazyprogrammer/lib/python3.9/site-packages/sklearn/metrics/_classification.py:1245: UndefinedMetricWarning: Precision and F-score are ill-defined and being set to 0.0 in samples with no predicted labels. Use `zero_division` parameter to control this behavior.\n",
      "  _warn_prf(average, modifier, msg_start, len(result))\n"
     ]
    },
    {
     "data": {
      "image/png": "[encoded data removed]",
      "text/plain": [
       "<Figure size 432x288 with 2 Axes>"
      ]
     },
     "metadata": {
      "needs_background": "light"
     },
     "output_type": "display_data"
    }
   ],
   "source": [
    "from sklearn.metrics import confusion_matrix, ConfusionMatrixDisplay, classification_report\n",
    "matrix = confusion_matrix(gt.argmax(axis=1), y_pred.argmax(axis=1))\n",
    "disp = ConfusionMatrixDisplay(confusion_matrix=matrix, display_labels = ['healthy', 'scab', 'frog_eye_leaf_spot', 'complex', 'rust', 'powdery_mildew'])\n",
    "disp.plot()\n",
    "\n",
    "report = classification_report(gt, y_pred)\n",
    "print(report)"
   ]
  },
  {
   "cell_type": "code",
   "execution_count": null,
   "id": "86d704d9",
   "metadata": {},
   "outputs": [],
   "source": [
    "from tensorflow import keras\n",
    "test_df = pd.read_csv('/mnt/hdd_data/bbayraktar/plant-pathology-2021-fgvc8/sample_submission.csv')\n",
    "\n",
    "\n",
    "test_generator = keras.preprocessing.image.ImageDataGenerator(\n",
    "    rescale = 1/255\n",
    ")\n",
    "\n",
    "\n",
    "test_generator = test_generator.flow_from_dataframe(\n",
    "    dataframe= test_df,\n",
    "    directory = test_path,\n",
    "    x_col = \"image\",\n",
    "    y_col = 'labels',\n",
    "    target_size = network_size,\n",
    "    color_mode=\"rgb\",\n",
    "\n",
    "    batch_size=1,\n",
    "    shuffle=False,\n",
    "    seed=None,\n",
    "\n",
    "    subset=None,\n",
    "    \n",
    "    interpolation=\"box\"\n",
    ")"
   ]
  },
  {
   "cell_type": "code",
   "execution_count": null,
   "id": "c3e3978b",
   "metadata": {},
   "outputs": [],
   "source": [
    "answer = loaded_model.predict(train_generator)\n",
    "\n"
   ]
  },
  {
   "cell_type": "code",
   "execution_count": null,
   "id": "39e1fd8d",
   "metadata": {},
   "outputs": [],
   "source": [
    "answer > 0.5\n",
    "total_pred = []\n",
    "for ans in answer:\n",
    "    ans = ans > 0.5\n",
    "    ids = np.where(ans)[0]\n",
    "    pred_cls = []\n",
    "    if ids.size == 0:\n",
    "        pred_cls.append(target_columns[0])\n",
    "    for id_ in ids:\n",
    "        pred_cls.append(target_columns[id_])\n",
    "    pred_cls = \" \".join(pred_cls)\n",
    "    total_pred.append(pred_cls)\n",
    "    \n",
    "train_df =  new_df.iloc[train_ind,:2]\n",
    "train_df.to_csv('gt.csv', index = False)\n",
    "train_df['labels'] = np.array(total_pred)\n",
    "train_df.sort_index()\n",
    "train_df.to_csv('pred.csv', index = False)\n",
    "#new_df.iloc[train_ind,:]"
   ]
  },
  {
   "cell_type": "code",
   "execution_count": null,
   "id": "312c4484",
   "metadata": {},
   "outputs": [],
   "source": [
    "test_df['labels'] = np.array(tot)\n",
    "\n",
    "test_df"
   ]
  },
  {
   "cell_type": "code",
   "execution_count": null,
   "id": "dc645c96",
   "metadata": {},
   "outputs": [],
   "source": [
    "test_df.to_csv('submission_train.csv', index = False)"
   ]
  }
 ],
 "metadata": {
  "kernelspec": {
   "display_name": "Python 3",
   "language": "python",
   "name": "python3"
  },
  "language_info": {
   "codemirror_mode": {
    "name": "ipython",
    "version": 3
   },
   "file_extension": ".py",
   "mimetype": "text/x-python",
   "name": "python",
   "nbconvert_exporter": "python",
   "pygments_lexer": "ipython3",
   "version": "3.9.2"
  }
 },
 "nbformat": 4,
 "nbformat_minor": 5
}
