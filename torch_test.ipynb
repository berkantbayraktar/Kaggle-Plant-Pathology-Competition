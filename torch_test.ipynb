{
 "cells": [
  {
   "cell_type": "code",
   "execution_count": 1,
   "metadata": {},
   "outputs": [
    {
     "name": "stderr",
     "output_type": "stream",
     "text": [
      "In /home/onur/anaconda3/lib/python3.7/site-packages/matplotlib/mpl-data/stylelib/_classic_test.mplstyle: \n",
      "The text.latex.preview rcparam was deprecated in Matplotlib 3.3 and will be removed two minor releases later.\n",
      "In /home/onur/anaconda3/lib/python3.7/site-packages/matplotlib/mpl-data/stylelib/_classic_test.mplstyle: \n",
      "The mathtext.fallback_to_cm rcparam was deprecated in Matplotlib 3.3 and will be removed two minor releases later.\n",
      "In /home/onur/anaconda3/lib/python3.7/site-packages/matplotlib/mpl-data/stylelib/_classic_test.mplstyle: Support for setting the 'mathtext.fallback_to_cm' rcParam is deprecated since 3.3 and will be removed two minor releases later; use 'mathtext.fallback : 'cm' instead.\n",
      "In /home/onur/anaconda3/lib/python3.7/site-packages/matplotlib/mpl-data/stylelib/_classic_test.mplstyle: \n",
      "The validate_bool_maybe_none function was deprecated in Matplotlib 3.3 and will be removed two minor releases later.\n",
      "In /home/onur/anaconda3/lib/python3.7/site-packages/matplotlib/mpl-data/stylelib/_classic_test.mplstyle: \n",
      "The savefig.jpeg_quality rcparam was deprecated in Matplotlib 3.3 and will be removed two minor releases later.\n",
      "In /home/onur/anaconda3/lib/python3.7/site-packages/matplotlib/mpl-data/stylelib/_classic_test.mplstyle: \n",
      "The keymap.all_axes rcparam was deprecated in Matplotlib 3.3 and will be removed two minor releases later.\n",
      "In /home/onur/anaconda3/lib/python3.7/site-packages/matplotlib/mpl-data/stylelib/_classic_test.mplstyle: \n",
      "The animation.avconv_path rcparam was deprecated in Matplotlib 3.3 and will be removed two minor releases later.\n",
      "In /home/onur/anaconda3/lib/python3.7/site-packages/matplotlib/mpl-data/stylelib/_classic_test.mplstyle: \n",
      "The animation.avconv_args rcparam was deprecated in Matplotlib 3.3 and will be removed two minor releases later.\n"
     ]
    }
   ],
   "source": [
    "import numpy as np # linear algebra\n",
    "import pandas as pd # data processing, CSV file I/O (e.g. pd.read_csv)\n",
    "import matplotlib.pyplot as plt\n",
    "from sklearn.model_selection import StratifiedKFold\n",
    "from collections import defaultdict\n",
    "\n",
    "import os\n",
    "import cv2\n",
    "\n",
    "import torch\n",
    "from torch.utils.data import Dataset, DataLoader\n",
    "import torch.nn as nn\n",
    "import torch.optim as optim\n",
    "import torchvision.models as models\n",
    "\n",
    "import albumentations as A\n",
    "from albumentations.core.composition import Compose, OneOf\n",
    "from albumentations.augmentations.transforms import CLAHE, GaussNoise, ISONoise\n",
    "from albumentations.pytorch import ToTensorV2"
   ]
  },
  {
   "cell_type": "code",
   "execution_count": 2,
   "metadata": {},
   "outputs": [
    {
     "data": {
      "text/html": [
       "<div>\n",
       "<style scoped>\n",
       "    .dataframe tbody tr th:only-of-type {\n",
       "        vertical-align: middle;\n",
       "    }\n",
       "\n",
       "    .dataframe tbody tr th {\n",
       "        vertical-align: top;\n",
       "    }\n",
       "\n",
       "    .dataframe thead th {\n",
       "        text-align: right;\n",
       "    }\n",
       "</style>\n",
       "<table border=\"1\" class=\"dataframe\">\n",
       "  <thead>\n",
       "    <tr style=\"text-align: right;\">\n",
       "      <th></th>\n",
       "      <th>image</th>\n",
       "      <th>labels</th>\n",
       "    </tr>\n",
       "  </thead>\n",
       "  <tbody>\n",
       "    <tr>\n",
       "      <th>0</th>\n",
       "      <td>800113bb65efe69e.jpg</td>\n",
       "      <td>healthy</td>\n",
       "    </tr>\n",
       "    <tr>\n",
       "      <th>1</th>\n",
       "      <td>8002cb321f8bfcdf.jpg</td>\n",
       "      <td>scab frog_eye_leaf_spot complex</td>\n",
       "    </tr>\n",
       "    <tr>\n",
       "      <th>2</th>\n",
       "      <td>80070f7fb5e2ccaa.jpg</td>\n",
       "      <td>scab</td>\n",
       "    </tr>\n",
       "    <tr>\n",
       "      <th>3</th>\n",
       "      <td>80077517781fb94f.jpg</td>\n",
       "      <td>scab</td>\n",
       "    </tr>\n",
       "    <tr>\n",
       "      <th>4</th>\n",
       "      <td>800cbf0ff87721f8.jpg</td>\n",
       "      <td>complex</td>\n",
       "    </tr>\n",
       "  </tbody>\n",
       "</table>\n",
       "</div>"
      ],
      "text/plain": [
       "                  image                           labels\n",
       "0  800113bb65efe69e.jpg                          healthy\n",
       "1  8002cb321f8bfcdf.jpg  scab frog_eye_leaf_spot complex\n",
       "2  80070f7fb5e2ccaa.jpg                             scab\n",
       "3  80077517781fb94f.jpg                             scab\n",
       "4  800cbf0ff87721f8.jpg                          complex"
      ]
     },
     "execution_count": 2,
     "metadata": {},
     "output_type": "execute_result"
    }
   ],
   "source": [
    "train_path = '../plant-pathology-2021-fgvc8/train_images_resized'\n",
    "test_path = '../plant-pathology-2021-fgvc8/test_images_resized'\n",
    "\n",
    "df = pd.read_csv('../plant-pathology-2021-fgvc8/train.csv')\n",
    "df.head()"
   ]
  },
  {
   "cell_type": "code",
   "execution_count": 3,
   "metadata": {},
   "outputs": [
    {
     "data": {
      "text/plain": [
       "(18632, 2)"
      ]
     },
     "execution_count": 3,
     "metadata": {},
     "output_type": "execute_result"
    }
   ],
   "source": [
    "df.shape"
   ]
  },
  {
   "cell_type": "code",
   "execution_count": 4,
   "metadata": {},
   "outputs": [
    {
     "data": {
      "text/plain": [
       "{'healthy': array([    0,     5,     7, ..., 18626, 18627, 18631]),\n",
       " 'scab': array([    1,     2,     3, ..., 18625, 18628, 18630]),\n",
       " 'frog_eye_leaf_spot': array([    1,    14,    31, ..., 18612, 18619, 18630]),\n",
       " 'complex': array([    1,     4,     8, ..., 18597, 18604, 18617]),\n",
       " 'rust': array([    6,    21,    26, ..., 18601, 18616, 18629]),\n",
       " 'powdery_mildew': array([   20,    39,    44, ..., 18532, 18617, 18618])}"
      ]
     },
     "execution_count": 4,
     "metadata": {},
     "output_type": "execute_result"
    }
   ],
   "source": [
    "dct = defaultdict(list)\n",
    "\n",
    "for i, label in enumerate(df.labels):\n",
    "    for category in label.split():\n",
    "        dct[category].append(i)\n",
    "\n",
    "dct = {key: np.array(val) for key, val in dct.items()}\n",
    "dct"
   ]
  },
  {
   "cell_type": "code",
   "execution_count": 5,
   "metadata": {},
   "outputs": [
    {
     "data": {
      "text/html": [
       "<div>\n",
       "<style scoped>\n",
       "    .dataframe tbody tr th:only-of-type {\n",
       "        vertical-align: middle;\n",
       "    }\n",
       "\n",
       "    .dataframe tbody tr th {\n",
       "        vertical-align: top;\n",
       "    }\n",
       "\n",
       "    .dataframe thead th {\n",
       "        text-align: right;\n",
       "    }\n",
       "</style>\n",
       "<table border=\"1\" class=\"dataframe\">\n",
       "  <thead>\n",
       "    <tr style=\"text-align: right;\">\n",
       "      <th></th>\n",
       "      <th>healthy</th>\n",
       "      <th>scab</th>\n",
       "      <th>frog_eye_leaf_spot</th>\n",
       "      <th>complex</th>\n",
       "      <th>rust</th>\n",
       "      <th>powdery_mildew</th>\n",
       "    </tr>\n",
       "  </thead>\n",
       "  <tbody>\n",
       "    <tr>\n",
       "      <th>0</th>\n",
       "      <td>1</td>\n",
       "      <td>0</td>\n",
       "      <td>0</td>\n",
       "      <td>0</td>\n",
       "      <td>0</td>\n",
       "      <td>0</td>\n",
       "    </tr>\n",
       "    <tr>\n",
       "      <th>1</th>\n",
       "      <td>0</td>\n",
       "      <td>1</td>\n",
       "      <td>1</td>\n",
       "      <td>1</td>\n",
       "      <td>0</td>\n",
       "      <td>0</td>\n",
       "    </tr>\n",
       "    <tr>\n",
       "      <th>2</th>\n",
       "      <td>0</td>\n",
       "      <td>1</td>\n",
       "      <td>0</td>\n",
       "      <td>0</td>\n",
       "      <td>0</td>\n",
       "      <td>0</td>\n",
       "    </tr>\n",
       "    <tr>\n",
       "      <th>3</th>\n",
       "      <td>0</td>\n",
       "      <td>1</td>\n",
       "      <td>0</td>\n",
       "      <td>0</td>\n",
       "      <td>0</td>\n",
       "      <td>0</td>\n",
       "    </tr>\n",
       "    <tr>\n",
       "      <th>4</th>\n",
       "      <td>0</td>\n",
       "      <td>0</td>\n",
       "      <td>0</td>\n",
       "      <td>1</td>\n",
       "      <td>0</td>\n",
       "      <td>0</td>\n",
       "    </tr>\n",
       "  </tbody>\n",
       "</table>\n",
       "</div>"
      ],
      "text/plain": [
       "   healthy  scab  frog_eye_leaf_spot  complex  rust  powdery_mildew\n",
       "0        1     0                   0        0     0               0\n",
       "1        0     1                   1        1     0               0\n",
       "2        0     1                   0        0     0               0\n",
       "3        0     1                   0        0     0               0\n",
       "4        0     0                   0        1     0               0"
      ]
     },
     "execution_count": 5,
     "metadata": {},
     "output_type": "execute_result"
    }
   ],
   "source": [
    "new_df = pd.DataFrame(np.zeros((df.shape[0], len(dct.keys())), dtype = np.int8), columns = dct.keys())\n",
    "\n",
    "for key, val in dct.items():\n",
    "    new_df.loc[val, key] = 1\n",
    "\n",
    "new_df.head()"
   ]
  },
  {
   "cell_type": "code",
   "execution_count": 6,
   "metadata": {},
   "outputs": [
    {
     "data": {
      "text/plain": [
       "healthy               4624\n",
       "scab                  5712\n",
       "frog_eye_leaf_spot    4352\n",
       "complex               2151\n",
       "rust                  2077\n",
       "powdery_mildew        1271\n",
       "dtype: int64"
      ]
     },
     "execution_count": 6,
     "metadata": {},
     "output_type": "execute_result"
    }
   ],
   "source": [
    "new_df.sum(axis = 0)"
   ]
  },
  {
   "cell_type": "code",
   "execution_count": 7,
   "metadata": {},
   "outputs": [
    {
     "data": {
      "text/plain": [
       "array([1, 1, 1, ..., 3, 3, 3])"
      ]
     },
     "execution_count": 7,
     "metadata": {},
     "output_type": "execute_result"
    }
   ],
   "source": [
    "cats_total = new_df.sum(axis = 1).values\n",
    "\n",
    "np.sort(cats_total)\n"
   ]
  },
  {
   "cell_type": "code",
   "execution_count": 8,
   "metadata": {},
   "outputs": [
    {
     "data": {
      "text/plain": [
       "1.083458565908115"
      ]
     },
     "execution_count": 8,
     "metadata": {},
     "output_type": "execute_result"
    }
   ],
   "source": [
    "np.mean(cats_total)"
   ]
  },
  {
   "cell_type": "code",
   "execution_count": 9,
   "metadata": {},
   "outputs": [
    {
     "data": {
      "text/plain": [
       "Counter({'healthy': 4624,\n",
       "         'scab frog_eye_leaf_spot complex': 200,\n",
       "         'scab': 4826,\n",
       "         'complex': 1602,\n",
       "         'rust': 1860,\n",
       "         'frog_eye_leaf_spot': 3181,\n",
       "         'powdery_mildew': 1184,\n",
       "         'scab frog_eye_leaf_spot': 686,\n",
       "         'frog_eye_leaf_spot complex': 165,\n",
       "         'rust frog_eye_leaf_spot': 120,\n",
       "         'powdery_mildew complex': 87,\n",
       "         'rust complex': 97})"
      ]
     },
     "execution_count": 9,
     "metadata": {},
     "output_type": "execute_result"
    }
   ],
   "source": [
    "from collections import Counter\n",
    "\n",
    "Counter(df.labels)"
   ]
  },
  {
   "cell_type": "code",
   "execution_count": 10,
   "metadata": {},
   "outputs": [
    {
     "data": {
      "text/plain": [
       "0        0\n",
       "1        1\n",
       "2        2\n",
       "3        2\n",
       "4        3\n",
       "        ..\n",
       "18627    0\n",
       "18628    2\n",
       "18629    4\n",
       "18630    7\n",
       "18631    0\n",
       "Name: labs, Length: 18632, dtype: int64"
      ]
     },
     "execution_count": 10,
     "metadata": {},
     "output_type": "execute_result"
    }
   ],
   "source": [
    "ks = {k: i for i,k in enumerate(Counter(df.labels).keys())}\n",
    "new_df['labs'] = np.array([ks[v] for v in df.labels])\n",
    "new_df['labs']"
   ]
  },
  {
   "cell_type": "code",
   "execution_count": 11,
   "metadata": {},
   "outputs": [
    {
     "data": {
      "text/html": [
       "<div>\n",
       "<style scoped>\n",
       "    .dataframe tbody tr th:only-of-type {\n",
       "        vertical-align: middle;\n",
       "    }\n",
       "\n",
       "    .dataframe tbody tr th {\n",
       "        vertical-align: top;\n",
       "    }\n",
       "\n",
       "    .dataframe thead th {\n",
       "        text-align: right;\n",
       "    }\n",
       "</style>\n",
       "<table border=\"1\" class=\"dataframe\">\n",
       "  <thead>\n",
       "    <tr style=\"text-align: right;\">\n",
       "      <th></th>\n",
       "      <th>image</th>\n",
       "      <th>labels</th>\n",
       "      <th>healthy</th>\n",
       "      <th>scab</th>\n",
       "      <th>frog_eye_leaf_spot</th>\n",
       "      <th>complex</th>\n",
       "      <th>rust</th>\n",
       "      <th>powdery_mildew</th>\n",
       "      <th>labs</th>\n",
       "    </tr>\n",
       "  </thead>\n",
       "  <tbody>\n",
       "    <tr>\n",
       "      <th>0</th>\n",
       "      <td>800113bb65efe69e.jpg</td>\n",
       "      <td>healthy</td>\n",
       "      <td>1</td>\n",
       "      <td>0</td>\n",
       "      <td>0</td>\n",
       "      <td>0</td>\n",
       "      <td>0</td>\n",
       "      <td>0</td>\n",
       "      <td>0</td>\n",
       "    </tr>\n",
       "    <tr>\n",
       "      <th>1</th>\n",
       "      <td>8002cb321f8bfcdf.jpg</td>\n",
       "      <td>scab frog_eye_leaf_spot complex</td>\n",
       "      <td>0</td>\n",
       "      <td>1</td>\n",
       "      <td>1</td>\n",
       "      <td>1</td>\n",
       "      <td>0</td>\n",
       "      <td>0</td>\n",
       "      <td>1</td>\n",
       "    </tr>\n",
       "    <tr>\n",
       "      <th>2</th>\n",
       "      <td>80070f7fb5e2ccaa.jpg</td>\n",
       "      <td>scab</td>\n",
       "      <td>0</td>\n",
       "      <td>1</td>\n",
       "      <td>0</td>\n",
       "      <td>0</td>\n",
       "      <td>0</td>\n",
       "      <td>0</td>\n",
       "      <td>2</td>\n",
       "    </tr>\n",
       "    <tr>\n",
       "      <th>3</th>\n",
       "      <td>80077517781fb94f.jpg</td>\n",
       "      <td>scab</td>\n",
       "      <td>0</td>\n",
       "      <td>1</td>\n",
       "      <td>0</td>\n",
       "      <td>0</td>\n",
       "      <td>0</td>\n",
       "      <td>0</td>\n",
       "      <td>2</td>\n",
       "    </tr>\n",
       "    <tr>\n",
       "      <th>4</th>\n",
       "      <td>800cbf0ff87721f8.jpg</td>\n",
       "      <td>complex</td>\n",
       "      <td>0</td>\n",
       "      <td>0</td>\n",
       "      <td>0</td>\n",
       "      <td>1</td>\n",
       "      <td>0</td>\n",
       "      <td>0</td>\n",
       "      <td>3</td>\n",
       "    </tr>\n",
       "  </tbody>\n",
       "</table>\n",
       "</div>"
      ],
      "text/plain": [
       "                  image                           labels  healthy  scab  \\\n",
       "0  800113bb65efe69e.jpg                          healthy        1     0   \n",
       "1  8002cb321f8bfcdf.jpg  scab frog_eye_leaf_spot complex        0     1   \n",
       "2  80070f7fb5e2ccaa.jpg                             scab        0     1   \n",
       "3  80077517781fb94f.jpg                             scab        0     1   \n",
       "4  800cbf0ff87721f8.jpg                          complex        0     0   \n",
       "\n",
       "   frog_eye_leaf_spot  complex  rust  powdery_mildew  labs  \n",
       "0                   0        0     0               0     0  \n",
       "1                   1        1     0               0     1  \n",
       "2                   0        0     0               0     2  \n",
       "3                   0        0     0               0     2  \n",
       "4                   0        1     0               0     3  "
      ]
     },
     "execution_count": 11,
     "metadata": {},
     "output_type": "execute_result"
    }
   ],
   "source": [
    "new_df = pd.concat([df, new_df], axis = 1)\n",
    "\n",
    "new_df.head()"
   ]
  },
  {
   "cell_type": "code",
   "execution_count": 12,
   "metadata": {},
   "outputs": [],
   "source": [
    "new_df.to_csv('../plant-pathology-2021-fgvc8/better_train.csv', index = False)"
   ]
  },
  {
   "cell_type": "code",
   "execution_count": 13,
   "metadata": {},
   "outputs": [],
   "source": [
    "TRAIN_DIR = '../plant-pathology-2021-fgvc8/train_images_resized/'\n",
    "\n",
    "class CFG:\n",
    "    seed = 42\n",
    "    model_name = 'resnet50'\n",
    "    pretrained = True\n",
    "    img_size = 224\n",
    "    num_classes = 6\n",
    "    lr = 1e-3\n",
    "    min_lr = 1e-6\n",
    "    t_max = 20\n",
    "    num_epochs = 20\n",
    "    batch_size = 16\n",
    "    accum = 1\n",
    "    precision = 16\n",
    "    n_fold = 5\n",
    "    device = torch.device('cuda' if torch.cuda.is_available() else 'cpu')"
   ]
  },
  {
   "cell_type": "code",
   "execution_count": 14,
   "metadata": {},
   "outputs": [],
   "source": [
    "class PlantDataset(Dataset):\n",
    "    def __init__(self, df, transform=None):\n",
    "        self.image_id = df['image'].values\n",
    "        self.labels = df['labels'].values\n",
    "        self.new_labels = df.iloc[:,2:-1]\n",
    "        self.transform = transform\n",
    "\n",
    "    def __len__(self):\n",
    "        return len(self.labels)\n",
    "\n",
    "    def __getitem__(self, idx):\n",
    "        image_id = self.image_id[idx]\n",
    "        label = self.labels[idx]\n",
    "        new_label = self.new_labels.iloc[idx].values.astype(float)\n",
    "        image_path = TRAIN_DIR + image_id\n",
    "        image = cv2.imread(image_path)\n",
    "        image = cv2.cvtColor(image, cv2.COLOR_BGR2RGB)\n",
    "        \n",
    "        augmented = self.transform(image=image)\n",
    "        image = augmented['image']\n",
    "        new_label = torch.tensor(new_label, dtype=torch.float32)\n",
    "        return {'image':image, 'target': new_label}"
   ]
  },
  {
   "cell_type": "code",
   "execution_count": 15,
   "metadata": {},
   "outputs": [],
   "source": [
    "def get_transform(phase: str):\n",
    "    if phase == 'train':\n",
    "        return Compose([\n",
    "            A.RandomResizedCrop(height=CFG.img_size, width=CFG.img_size),\n",
    "            A.HorizontalFlip(p=0.5),\n",
    "            A.ShiftScaleRotate(p=0.5),\n",
    "            A.RandomBrightnessContrast(p=0.5),\n",
    "            A.Normalize(),\n",
    "            ToTensorV2(),\n",
    "        ])\n",
    "    else:\n",
    "        return Compose([\n",
    "            A.Resize(height=CFG.img_size, width=CFG.img_size),\n",
    "            A.Normalize(),\n",
    "            ToTensorV2(),\n",
    "        ])"
   ]
  },
  {
   "cell_type": "code",
   "execution_count": 16,
   "metadata": {},
   "outputs": [
    {
     "name": "stdout",
     "output_type": "stream",
     "text": [
      "train size: 14905\n",
      "valid size: 3727\n"
     ]
    }
   ],
   "source": [
    "sfk = StratifiedKFold(CFG.n_fold)\n",
    "for train_idx, valid_idx in sfk.split(new_df['image'], new_df['labels']):\n",
    "    df_train = new_df.iloc[train_idx]\n",
    "    df_valid = new_df.iloc[valid_idx]\n",
    "    break\n",
    "    \n",
    "print(f\"train size: {len(df_train)}\")\n",
    "print(f\"valid size: {len(df_valid)}\")"
   ]
  },
  {
   "cell_type": "code",
   "execution_count": 79,
   "metadata": {},
   "outputs": [],
   "source": [
    "class CustomResNet(nn.Module):\n",
    "    def __init__(self, model_name='resnet50', pretrained=False, requires_grad = True):\n",
    "        super().__init__()\n",
    "        model = models.resnet50(pretrained)\n",
    "        # to freeze the hidden layers\n",
    "        if requires_grad == False:\n",
    "            for param in model.parameters():\n",
    "                param.requires_grad = False\n",
    "        # to train the hidden layers\n",
    "        elif requires_grad == True:\n",
    "            for param in model.parameters():\n",
    "                param.requires_grad = True\n",
    "        model.fc = nn.Linear(2048,6)\n",
    "        self.model = model\n",
    "        #in_features = model.fc.in_features\n",
    "        #print(in_features)\n",
    "        #self.feat_ext = nn.Sequential(*(list(model.children())[:-1])) \n",
    "        #in_features = self.model.get_classifier().in_features\n",
    "        #self.model.fc = nn.Linear(in_features, CFG.num_classes)\n",
    "        \n",
    "    def forward(self, x):\n",
    "        x = self.model(x)\n",
    "        x = torch.sigmoid(x)\n",
    "        return x"
   ]
  },
  {
   "cell_type": "code",
   "execution_count": 80,
   "metadata": {},
   "outputs": [],
   "source": [
    "resnet = CustomResNet()"
   ]
  },
  {
   "cell_type": "code",
   "execution_count": 81,
   "metadata": {},
   "outputs": [
    {
     "data": {
      "text/plain": [
       "tensor([[0.6238, 0.7117, 0.1950, 0.4133, 0.3643, 0.3789]],\n",
       "       grad_fn=<SigmoidBackward>)"
      ]
     },
     "execution_count": 81,
     "metadata": {},
     "output_type": "execute_result"
    }
   ],
   "source": [
    "test = torch.randn(1,3,500,500)\n",
    "resnet(test)"
   ]
  },
  {
   "cell_type": "code",
   "execution_count": 82,
   "metadata": {},
   "outputs": [],
   "source": [
    "train_dataset = PlantDataset(df_train, get_transform('train'))\n",
    "train_loader = DataLoader(train_dataset, batch_size=CFG.batch_size, shuffle=True, num_workers=2, pin_memory=True, drop_last=True)\n",
    "\n",
    "valid_dataset = PlantDataset(df_valid, get_transform('valid'))\n",
    "valid_loader = DataLoader(valid_dataset, batch_size=CFG.batch_size, shuffle=True, num_workers=2, pin_memory=True, drop_last=True)\n"
   ]
  },
  {
   "cell_type": "code",
   "execution_count": 83,
   "metadata": {},
   "outputs": [
    {
     "data": {
      "text/plain": [
       "tensor([0., 0., 0., 0., 0., 1.])"
      ]
     },
     "execution_count": 83,
     "metadata": {},
     "output_type": "execute_result"
    }
   ],
   "source": [
    "train_dataset[0]['target']"
   ]
  },
  {
   "cell_type": "code",
   "execution_count": 84,
   "metadata": {},
   "outputs": [
    {
     "data": {
      "text/plain": [
       "tensor([0., 1., 1., 1., 0., 0.])"
      ]
     },
     "execution_count": 84,
     "metadata": {},
     "output_type": "execute_result"
    }
   ],
   "source": [
    "arr = new_df.iloc[1,2:-1].values.astype(float)\n",
    "torch.tensor(arr, dtype=torch.float32)"
   ]
  },
  {
   "cell_type": "code",
   "execution_count": 85,
   "metadata": {
    "scrolled": true
   },
   "outputs": [
    {
     "name": "stdout",
     "output_type": "stream",
     "text": [
      "Epoch 1 of 20\n",
      "Training\n",
      "Train Accuracy: 9.264232008592911%\n",
      "Validating\n",
      "Val Accuracy: 20.420258620689655%\n",
      "Train Loss: 0.4154\n",
      "Val Loss: 0.3736\n",
      "Epoch 2 of 20\n",
      "Training\n",
      "Train Accuracy: 24.711331901181524%\n",
      "Validating\n",
      "Val Accuracy: 17.780172413793103%\n",
      "Train Loss: 0.3624\n",
      "Val Loss: 0.4109\n",
      "Epoch 3 of 20\n",
      "Training\n",
      "Train Accuracy: 31.531954887218046%\n",
      "Validating\n",
      "Val Accuracy: 27.720905172413797%\n",
      "Train Loss: 0.3439\n",
      "Val Loss: 0.3749\n",
      "Epoch 4 of 20\n",
      "Training\n",
      "Train Accuracy: 44.038668098818476%\n",
      "Validating\n",
      "Val Accuracy: 58.91702586206896%\n",
      "Train Loss: 0.3111\n",
      "Val Loss: 0.2483\n",
      "Epoch 5 of 20\n",
      "Training\n",
      "Train Accuracy: 52.12137486573577%\n",
      "Validating\n",
      "Val Accuracy: 56.33081896551724%\n",
      "Train Loss: 0.2809\n",
      "Val Loss: 0.3015\n",
      "Epoch 6 of 20\n",
      "Training\n",
      "Train Accuracy: 56.20300751879699%\n",
      "Validating\n",
      "Val Accuracy: 64.19719827586206%\n",
      "Train Loss: 0.2629\n",
      "Val Loss: 0.2147\n",
      "Epoch 7 of 20\n",
      "Training\n",
      "Train Accuracy: 58.35794844253491%\n",
      "Validating\n",
      "Val Accuracy: 66.59482758620689%\n",
      "Train Loss: 0.2543\n",
      "Val Loss: 0.2159\n",
      "Epoch 8 of 20\n",
      "Training\n",
      "Train Accuracy: 60.56659505907626%\n",
      "Validating\n",
      "Val Accuracy: 72.06357758620689%\n",
      "Train Loss: 0.2419\n",
      "Val Loss: 0.1849\n",
      "Epoch 9 of 20\n",
      "Training\n",
      "Train Accuracy: 62.661117078410314%\n",
      "Validating\n",
      "Val Accuracy: 63.658405172413794%\n",
      "Train Loss: 0.2307\n",
      "Val Loss: 0.2310\n",
      "Epoch 10 of 20\n",
      "Training\n",
      "Train Accuracy: 64.68179377013963%\n",
      "Validating\n",
      "Val Accuracy: 71.68642241379311%\n",
      "Train Loss: 0.2216\n",
      "Val Loss: 0.1811\n",
      "Epoch 11 of 20\n",
      "Training\n",
      "Train Accuracy: 64.61466165413535%\n",
      "Validating\n",
      "Val Accuracy: 73.0603448275862%\n",
      "Train Loss: 0.2188\n",
      "Val Loss: 0.1737\n",
      "Epoch 12 of 20\n",
      "Training\n",
      "Train Accuracy: 65.35982814178303%\n",
      "Validating\n",
      "Val Accuracy: 72.33297413793103%\n",
      "Train Loss: 0.2168\n",
      "Val Loss: 0.1845\n",
      "Epoch 13 of 20\n",
      "Training\n",
      "Train Accuracy: 65.85660580021482%\n",
      "Validating\n",
      "Val Accuracy: 74.32650862068965%\n",
      "Train Loss: 0.2130\n",
      "Val Loss: 0.1698\n",
      "Epoch 14 of 20\n",
      "Training\n",
      "Train Accuracy: 67.76987110633728%\n",
      "Validating\n",
      "Val Accuracy: 74.86530172413794%\n",
      "Train Loss: 0.2051\n",
      "Val Loss: 0.1675\n",
      "Epoch 15 of 20\n",
      "Training\n",
      "Train Accuracy: 67.45435016111708%\n",
      "Validating\n",
      "Val Accuracy: 75.67349137931035%\n",
      "Train Loss: 0.2027\n",
      "Val Loss: 0.1629\n",
      "Epoch 16 of 20\n",
      "Training\n",
      "Train Accuracy: 68.19951664876477%\n",
      "Validating\n",
      "Val Accuracy: 74.05711206896551%\n",
      "Train Loss: 0.1997\n",
      "Val Loss: 0.1737\n",
      "Epoch 17 of 20\n",
      "Training\n",
      "Train Accuracy: 68.89097744360903%\n",
      "Validating\n",
      "Val Accuracy: 69.36961206896551%\n",
      "Train Loss: 0.1960\n",
      "Val Loss: 0.1907\n",
      "Epoch 18 of 20\n",
      "Training\n",
      "Train Accuracy: 69.20649838882922%\n",
      "Validating\n",
      "Val Accuracy: 77.45150862068965%\n",
      "Train Loss: 0.1943\n",
      "Val Loss: 0.1475\n",
      "Epoch 19 of 20\n",
      "Training\n",
      "Train Accuracy: 69.26020408163265%\n",
      "Validating\n",
      "Val Accuracy: 77.10129310344827%\n",
      "Train Loss: 0.1945\n",
      "Val Loss: 0.1489\n",
      "Epoch 20 of 20\n",
      "Training\n",
      "Train Accuracy: 69.69656283566059%\n",
      "Validating\n",
      "Val Accuracy: 75.10775862068965%\n",
      "Train Loss: 0.1889\n",
      "Val Loss: 0.1660\n"
     ]
    }
   ],
   "source": [
    "from sklearn.metrics import accuracy_score\n",
    "\n",
    "if torch.cuda.is_available():\n",
    "    resnet.cuda()\n",
    "\n",
    "lr = 0.001\n",
    "epochs = 5\n",
    "batch_size = 16\n",
    "optimizer = optim.Adam(resnet.parameters(), lr=lr)\n",
    "criterion = nn.BCELoss()\n",
    "\n",
    "train_loss = []\n",
    "valid_loss = []\n",
    "\n",
    "for epoch in range(CFG.num_epochs):\n",
    "    print(f\"Epoch {epoch+1} of {CFG.num_epochs}\")\n",
    "    print('Training')\n",
    "    resnet.train()\n",
    "    counter = 0\n",
    "    train_running_loss = 0.0\n",
    "    \n",
    "    correct = 0.\n",
    "    total = 0.\n",
    "    acc = 0.\n",
    "    val_correct = 0.\n",
    "    val_total = 0.\n",
    "\n",
    "    for i, data in enumerate(train_loader):\n",
    "        counter += 1\n",
    "        data, target = data['image'].to(CFG.device), data['target'].to(CFG.device)\n",
    "        optimizer.zero_grad()\n",
    "        outputs = resnet(data)\n",
    "\n",
    "        loss = criterion(outputs, target)\n",
    "        train_running_loss += loss.item()\n",
    "        # backpropagation\n",
    "        loss.backward()\n",
    "        # update optimizer parameters\n",
    "        optimizer.step()\n",
    "        \n",
    "        with torch.no_grad():\n",
    "            #round up and down to either 1 or 0\n",
    "            predicted = np.round(outputs.cpu().detach().numpy())\n",
    "            true = target.cpu().detach().numpy()\n",
    "            total += (target.size(0)*target.size(1))\n",
    "            acc += accuracy_score(true, predicted)\n",
    "            #calculate how many images were correctly classified\n",
    "            correct += (predicted == target.cpu().detach().numpy()).sum().item()\n",
    "            \n",
    "    accuracy = 100 * correct / total\n",
    "    print(\"Train Accuracy: {}%\".format(acc/counter*100))        \n",
    "\n",
    "    train_epoch_loss = train_running_loss / counter\n",
    "\n",
    "    print('Validating')\n",
    "    resnet.eval()\n",
    "    counter = 0\n",
    "    val_running_loss = 0.0\n",
    "    val_acc = 0.\n",
    "    with torch.no_grad():\n",
    "        for i, data in enumerate(valid_loader):\n",
    "            counter += 1\n",
    "            data, target = data['image'].to(CFG.device), data['target'].to(CFG.device)\n",
    "            outputs = resnet(data)\n",
    "            # apply sigmoid activation to get all the outputs between 0 and 1\n",
    "            loss = criterion(outputs, target)\n",
    "            val_running_loss += loss.item()\n",
    "\n",
    "            predicted = np.round(outputs.cpu().detach().numpy())\n",
    "            true = target.cpu().detach().numpy()\n",
    "            total += (target.size(0)*target.size(1))\n",
    "            val_acc += accuracy_score(true, predicted)\n",
    "            #calculate how many images were correctly classified\n",
    "            correct += (predicted == target.cpu().detach().numpy()).sum().item()\n",
    " \n",
    "        val_accuracy = 100 * val_correct / total\n",
    "        print(\"Val Accuracy: {}%\".format(val_acc/counter*100))        \n",
    "\n",
    "        valid_epoch_loss = val_running_loss / counter\n",
    "        \n",
    "    train_loss.append(train_epoch_loss)\n",
    "    valid_loss.append(valid_epoch_loss)\n",
    "    print(f\"Train Loss: {train_epoch_loss:.4f}\")\n",
    "    print(f'Val Loss: {valid_epoch_loss:.4f}')\n"
   ]
  },
  {
   "cell_type": "code",
   "execution_count": 86,
   "metadata": {},
   "outputs": [],
   "source": [
    "import cv2\n",
    "def test_single_img(path):\n",
    "    img = cv2.imread(path)\n",
    "    img = cv2.cvtColor(img, cv2.COLOR_BGR2RGB)\n",
    "    img = cv2.resize(img, (224,224))\n",
    "    img = img / 255.\n",
    "    img = np.expand_dims(img, axis=0)\n",
    "    img = torch.from_numpy(img.astype(np.float32))\n",
    "    img = img.permute(0,3,1,2)\n",
    "    return img"
   ]
  },
  {
   "cell_type": "code",
   "execution_count": 141,
   "metadata": {},
   "outputs": [],
   "source": [
    "path = \"../plant-pathology-2021-fgvc8/train_images/81be3593928bb798.jpg\"\n",
    "img = test_single_img(path)"
   ]
  },
  {
   "cell_type": "code",
   "execution_count": 142,
   "metadata": {},
   "outputs": [],
   "source": [
    "out = resnet(img.cuda())"
   ]
  },
  {
   "cell_type": "code",
   "execution_count": 143,
   "metadata": {},
   "outputs": [
    {
     "data": {
      "text/plain": [
       "array([[0., 0., 0., 1., 0., 0.]], dtype=float32)"
      ]
     },
     "execution_count": 143,
     "metadata": {},
     "output_type": "execute_result"
    }
   ],
   "source": [
    "np.round(out.cpu().detach().numpy())"
   ]
  },
  {
   "cell_type": "code",
   "execution_count": 128,
   "metadata": {},
   "outputs": [
    {
     "data": {
      "text/plain": [
       "6"
      ]
     },
     "execution_count": 128,
     "metadata": {},
     "output_type": "execute_result"
    }
   ],
   "source": [
    "target.size(1)"
   ]
  },
  {
   "cell_type": "code",
   "execution_count": 176,
   "metadata": {},
   "outputs": [
    {
     "name": "stdout",
     "output_type": "stream",
     "text": [
      "[[0. 0. 1. 0. 0. 0.]]\n",
      "[0. 0. 1. 0. 0. 0.]\n"
     ]
    }
   ],
   "source": [
    "kk = 851\n",
    "print(np.round(resnet(valid_dataset[kk]['image'].unsqueeze(0).cuda()).cpu().detach().numpy()))\n",
    "print(valid_dataset[kk]['target'].cpu().detach().numpy())"
   ]
  },
  {
   "cell_type": "code",
   "execution_count": 213,
   "metadata": {},
   "outputs": [],
   "source": [
    "preds = []\n",
    "trues = []\n",
    "for i in range(len(valid_dataset.labels)):\n",
    "    y_pred = np.round(resnet(valid_dataset[i]['image'].unsqueeze(0).cuda()).cpu().detach().numpy())\n",
    "    y_true = valid_dataset[i]['target'].cpu().detach().numpy()\n",
    "    preds.append(y_pred[0].astype(np.int8))\n",
    "    trues.append(y_true.astype(np.int8))"
   ]
  },
  {
   "cell_type": "code",
   "execution_count": 244,
   "metadata": {},
   "outputs": [
    {
     "name": "stdout",
     "output_type": "stream",
     "text": [
      "              precision    recall  f1-score   support\n",
      "\n",
      "           0       0.86      0.92      0.89       925\n",
      "           1       0.92      0.70      0.80      1142\n",
      "           2       0.89      0.70      0.79       870\n",
      "           3       0.76      0.48      0.58       431\n",
      "           4       0.80      0.93      0.86       416\n",
      "           5       0.92      0.79      0.85       254\n",
      "\n",
      "   micro avg       0.87      0.76      0.81      4038\n",
      "   macro avg       0.86      0.75      0.79      4038\n",
      "weighted avg       0.87      0.76      0.80      4038\n",
      " samples avg       0.80      0.79      0.79      4038\n",
      "\n"
     ]
    }
   ],
   "source": [
    "from sklearn.metrics import classification_report, confusion_matrix, multilabel_confusion_matrix, plot_confusion_matrix\n",
    "from sklearn.metrics import ConfusionMatrixDisplay\n",
    "\n",
    "target_names = ['healthy', 'scab', 'frog_eye_leaf_spot', 'complex', 'rust', 'powdery_mildew']\n",
    "cm = multilabel_confusion_matrix(np.asarray(trues), np.asarray(preds))\n",
    "print(classification_report(np.asarray(trues), np.asarray(preds)))"
   ]
  },
  {
   "cell_type": "code",
   "execution_count": 242,
   "metadata": {
    "scrolled": true
   },
   "outputs": [
    {
     "data": {
      "text/plain": [
       "array([[[2659,  143],\n",
       "        [  72,  853]],\n",
       "\n",
       "       [[2520,   65],\n",
       "        [ 345,  797]],\n",
       "\n",
       "       [[2781,   76],\n",
       "        [ 258,  612]],\n",
       "\n",
       "       [[3230,   66],\n",
       "        [ 226,  205]],\n",
       "\n",
       "       [[3216,   95],\n",
       "        [  31,  385]],\n",
       "\n",
       "       [[3455,   18],\n",
       "        [  54,  200]]])"
      ]
     },
     "execution_count": 242,
     "metadata": {},
     "output_type": "execute_result"
    }
   ],
   "source": [
    "cm"
   ]
  },
  {
   "cell_type": "code",
   "execution_count": null,
   "metadata": {},
   "outputs": [],
   "source": []
  },
  {
   "cell_type": "code",
   "execution_count": null,
   "metadata": {},
   "outputs": [],
   "source": []
  }
 ],
 "metadata": {
  "kernelspec": {
   "display_name": "Python 3",
   "language": "python",
   "name": "python3"
  },
  "language_info": {
   "codemirror_mode": {
    "name": "ipython",
    "version": 3
   },
   "file_extension": ".py",
   "mimetype": "text/x-python",
   "name": "python",
   "nbconvert_exporter": "python",
   "pygments_lexer": "ipython3",
   "version": "3.7.7"
  }
 },
 "nbformat": 4,
 "nbformat_minor": 4
}
